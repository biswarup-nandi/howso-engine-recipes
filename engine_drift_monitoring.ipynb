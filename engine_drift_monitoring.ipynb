{
 "cells": [
  {
   "attachments": {},
   "cell_type": "markdown",
   "id": "2c47f674",
   "metadata": {},
   "source": [
    "# Overview\n",
    "\n",
    "This example notebook will demonstrate Howso Engine’s ability to handle model drift. Drift occurs when a trained model no longer reflects the desired aspects of reality, leading to poor predictions. Howso Engine can be used to monitor any potential drift by evaluating bias in both new and ongoing models using online learning and interpretability. "
   ]
  },
  {
   "attachments": {},
   "cell_type": "markdown",
   "id": "a2db5be2",
   "metadata": {},
   "source": [
    "## Step 1: Load the Data"
   ]
  },
  {
   "cell_type": "code",
   "execution_count": 1,
   "id": "2b16a590",
   "metadata": {},
   "outputs": [],
   "source": [
    "from pprint import pprint\n",
    "\n",
    "import matplotlib.pyplot as plt\n",
    "import numpy as np\n",
    "import pandas as pd\n",
    "import pmlb\n",
    "from scipy.stats import entropy\n",
    "import seaborn as sns\n",
    "from sklearn.ensemble import GradientBoostingClassifier\n",
    "\n",
    "from howso import engine\n",
    "from howso.utilities import infer_feature_attributes"
   ]
  },
  {
   "cell_type": "code",
   "execution_count": 2,
   "id": "472fe5df",
   "metadata": {},
   "outputs": [
    {
     "data": {
      "text/html": [
       "<div>\n",
       "<style scoped>\n",
       "    .dataframe tbody tr th:only-of-type {\n",
       "        vertical-align: middle;\n",
       "    }\n",
       "\n",
       "    .dataframe tbody tr th {\n",
       "        vertical-align: top;\n",
       "    }\n",
       "\n",
       "    .dataframe thead th {\n",
       "        text-align: right;\n",
       "    }\n",
       "</style>\n",
       "<table border=\"1\" class=\"dataframe\">\n",
       "  <thead>\n",
       "    <tr style=\"text-align: right;\">\n",
       "      <th></th>\n",
       "      <th>sepal-length</th>\n",
       "      <th>sepal-width</th>\n",
       "      <th>petal-length</th>\n",
       "      <th>petal-width</th>\n",
       "      <th>target</th>\n",
       "    </tr>\n",
       "  </thead>\n",
       "  <tbody>\n",
       "    <tr>\n",
       "      <th>0</th>\n",
       "      <td>6.7</td>\n",
       "      <td>3.0</td>\n",
       "      <td>5.2</td>\n",
       "      <td>2.3</td>\n",
       "      <td>2</td>\n",
       "    </tr>\n",
       "    <tr>\n",
       "      <th>1</th>\n",
       "      <td>6.0</td>\n",
       "      <td>2.2</td>\n",
       "      <td>5.0</td>\n",
       "      <td>1.5</td>\n",
       "      <td>2</td>\n",
       "    </tr>\n",
       "    <tr>\n",
       "      <th>2</th>\n",
       "      <td>6.2</td>\n",
       "      <td>2.8</td>\n",
       "      <td>4.8</td>\n",
       "      <td>1.8</td>\n",
       "      <td>2</td>\n",
       "    </tr>\n",
       "    <tr>\n",
       "      <th>3</th>\n",
       "      <td>7.7</td>\n",
       "      <td>3.8</td>\n",
       "      <td>6.7</td>\n",
       "      <td>2.2</td>\n",
       "      <td>2</td>\n",
       "    </tr>\n",
       "    <tr>\n",
       "      <th>4</th>\n",
       "      <td>7.2</td>\n",
       "      <td>3.0</td>\n",
       "      <td>5.8</td>\n",
       "      <td>1.6</td>\n",
       "      <td>2</td>\n",
       "    </tr>\n",
       "    <tr>\n",
       "      <th>...</th>\n",
       "      <td>...</td>\n",
       "      <td>...</td>\n",
       "      <td>...</td>\n",
       "      <td>...</td>\n",
       "      <td>...</td>\n",
       "    </tr>\n",
       "    <tr>\n",
       "      <th>145</th>\n",
       "      <td>5.0</td>\n",
       "      <td>3.5</td>\n",
       "      <td>1.6</td>\n",
       "      <td>0.6</td>\n",
       "      <td>0</td>\n",
       "    </tr>\n",
       "    <tr>\n",
       "      <th>146</th>\n",
       "      <td>5.4</td>\n",
       "      <td>3.9</td>\n",
       "      <td>1.7</td>\n",
       "      <td>0.4</td>\n",
       "      <td>0</td>\n",
       "    </tr>\n",
       "    <tr>\n",
       "      <th>147</th>\n",
       "      <td>5.1</td>\n",
       "      <td>3.4</td>\n",
       "      <td>1.5</td>\n",
       "      <td>0.2</td>\n",
       "      <td>0</td>\n",
       "    </tr>\n",
       "    <tr>\n",
       "      <th>148</th>\n",
       "      <td>5.0</td>\n",
       "      <td>3.6</td>\n",
       "      <td>1.4</td>\n",
       "      <td>0.2</td>\n",
       "      <td>0</td>\n",
       "    </tr>\n",
       "    <tr>\n",
       "      <th>149</th>\n",
       "      <td>5.0</td>\n",
       "      <td>3.4</td>\n",
       "      <td>1.6</td>\n",
       "      <td>0.4</td>\n",
       "      <td>0</td>\n",
       "    </tr>\n",
       "  </tbody>\n",
       "</table>\n",
       "<p>150 rows × 5 columns</p>\n",
       "</div>"
      ],
      "text/plain": [
       "     sepal-length  sepal-width  petal-length  petal-width  target\n",
       "0             6.7          3.0           5.2          2.3       2\n",
       "1             6.0          2.2           5.0          1.5       2\n",
       "2             6.2          2.8           4.8          1.8       2\n",
       "3             7.7          3.8           6.7          2.2       2\n",
       "4             7.2          3.0           5.8          1.6       2\n",
       "..            ...          ...           ...          ...     ...\n",
       "145           5.0          3.5           1.6          0.6       0\n",
       "146           5.4          3.9           1.7          0.4       0\n",
       "147           5.1          3.4           1.5          0.2       0\n",
       "148           5.0          3.6           1.4          0.2       0\n",
       "149           5.0          3.4           1.6          0.4       0\n",
       "\n",
       "[150 rows x 5 columns]"
      ]
     },
     "execution_count": 2,
     "metadata": {},
     "output_type": "execute_result"
    }
   ],
   "source": [
    "sns.set_theme()\n",
    "\n",
    "df = pmlb.fetch_data('iris', local_cache_dir='data/pmlb')\n",
    "df"
   ]
  },
  {
   "attachments": {},
   "cell_type": "markdown",
   "id": "edd04ee3",
   "metadata": {},
   "source": [
    "## Step 2: Simulate Data Drift\n",
    "\n",
    "Model drift occurs when the model that has been trained no longer reflects the desired aspects of reality. In this case, we will sample from the data in such a way that certain targets are much less likely to appear in our test and observation sets than in the training set. This will simulate model drift and allow us to demonstrate Howso Engine."
   ]
  },
  {
   "cell_type": "code",
   "execution_count": 3,
   "id": "d4a2e546",
   "metadata": {},
   "outputs": [
    {
     "name": "stdout",
     "output_type": "stream",
     "text": [
      "50 100\n"
     ]
    },
    {
     "data": {
      "text/plain": [
       "target\n",
       "1    26\n",
       "2    24\n",
       "Name: count, dtype: int64"
      ]
     },
     "metadata": {},
     "output_type": "display_data"
    },
    {
     "data": {
      "text/plain": [
       "target\n",
       "2.0    26\n",
       "1.0    24\n",
       "Name: count, dtype: int64"
      ]
     },
     "metadata": {},
     "output_type": "display_data"
    },
    {
     "data": {
      "text/plain": [
       "target\n",
       "0.0    40\n",
       "Name: count, dtype: int64"
      ]
     },
     "metadata": {},
     "output_type": "display_data"
    }
   ],
   "source": [
    "df_biased = df[df['target'].isin([1,2])]\n",
    "df_train = df_biased.sample(frac=0.5)\n",
    "df_test_no_drift = df_biased[~df_biased.isin(df_train)].dropna()\n",
    "df_test_drift = df[~df.isin(df_biased)].dropna()\n",
    "df_test_drift.target.loc[df_test_drift.sample(frac=0.2).index] = np.nan\n",
    "\n",
    "df_test = pd.concat([df_test_no_drift, df_test_drift])\n",
    "\n",
    "print(len(df_train), len(df_test))\n",
    "display(df_train.target.value_counts())\n",
    "display(df_test_no_drift.target.value_counts())\n",
    "display(df_test_drift.target.value_counts())"
   ]
  },
  {
   "attachments": {},
   "cell_type": "markdown",
   "id": "ca0e8f1e",
   "metadata": {},
   "source": [
    "## Step 3: Map Data\n",
    "\n",
    "Map the data to feature attributes and ensure they are mapped correctly."
   ]
  },
  {
   "cell_type": "code",
   "execution_count": 4,
   "id": "7692d663",
   "metadata": {},
   "outputs": [
    {
     "name": "stdout",
     "output_type": "stream",
     "text": [
      "{ 'petal-length': { 'bounds': {'max': 7.38905609893065, 'min': 1.0},\n",
      "                    'decimal_places': 1,\n",
      "                    'original_type': {'data_type': 'numeric', 'size': 8},\n",
      "                    'type': 'continuous'},\n",
      "  'petal-width': { 'bounds': { 'max': 2.718281828459045,\n",
      "                               'min': 0.049787068367863944},\n",
      "                   'decimal_places': 1,\n",
      "                   'original_type': {'data_type': 'numeric', 'size': 8},\n",
      "                   'type': 'continuous'},\n",
      "  'sepal-length': { 'bounds': { 'max': 20.085536923187668,\n",
      "                                'min': 2.718281828459045},\n",
      "                    'decimal_places': 1,\n",
      "                    'original_type': {'data_type': 'numeric', 'size': 8},\n",
      "                    'type': 'continuous'},\n",
      "  'sepal-width': { 'bounds': {'max': 7.38905609893065, 'min': 1.0},\n",
      "                   'decimal_places': 1,\n",
      "                   'original_type': {'data_type': 'numeric', 'size': 8},\n",
      "                   'type': 'continuous'},\n",
      "  'target': { 'bounds': {'allow_null': False},\n",
      "              'data_type': 'number',\n",
      "              'decimal_places': 0,\n",
      "              'original_type': {'data_type': 'integer', 'size': 8},\n",
      "              'type': 'nominal'}}\n"
     ]
    }
   ],
   "source": [
    "features = infer_feature_attributes(df)\n",
    "feature_names = df.columns.tolist()\n",
    "action_features = feature_names[-1:]\n",
    "context_features = feature_names[:-1]\n",
    "\n",
    "pprint(features, indent=2)"
   ]
  },
  {
   "attachments": {},
   "cell_type": "markdown",
   "id": "ca96b6b6",
   "metadata": {},
   "source": [
    "## Step 4: Train the non-Howso Model\n",
    "\n",
    "The non-Howso model will be trained on the training set created above. The training order and the predicted value will be recorded as inputs to the Howso model to help monitor drift."
   ]
  },
  {
   "cell_type": "code",
   "execution_count": 5,
   "id": "ffce518f",
   "metadata": {},
   "outputs": [
    {
     "data": {
      "text/html": [
       "<div>\n",
       "<style scoped>\n",
       "    .dataframe tbody tr th:only-of-type {\n",
       "        vertical-align: middle;\n",
       "    }\n",
       "\n",
       "    .dataframe tbody tr th {\n",
       "        vertical-align: top;\n",
       "    }\n",
       "\n",
       "    .dataframe thead th {\n",
       "        text-align: right;\n",
       "    }\n",
       "</style>\n",
       "<table border=\"1\" class=\"dataframe\">\n",
       "  <thead>\n",
       "    <tr style=\"text-align: right;\">\n",
       "      <th></th>\n",
       "      <th>index</th>\n",
       "      <th>sepal-length</th>\n",
       "      <th>sepal-width</th>\n",
       "      <th>petal-length</th>\n",
       "      <th>petal-width</th>\n",
       "      <th>target</th>\n",
       "    </tr>\n",
       "  </thead>\n",
       "  <tbody>\n",
       "    <tr>\n",
       "      <th>0</th>\n",
       "      <td>0</td>\n",
       "      <td>6.7</td>\n",
       "      <td>3.0</td>\n",
       "      <td>5.2</td>\n",
       "      <td>2.3</td>\n",
       "      <td>2.0</td>\n",
       "    </tr>\n",
       "    <tr>\n",
       "      <th>1</th>\n",
       "      <td>1</td>\n",
       "      <td>6.0</td>\n",
       "      <td>2.2</td>\n",
       "      <td>5.0</td>\n",
       "      <td>1.5</td>\n",
       "      <td>2.0</td>\n",
       "    </tr>\n",
       "    <tr>\n",
       "      <th>2</th>\n",
       "      <td>2</td>\n",
       "      <td>6.2</td>\n",
       "      <td>2.8</td>\n",
       "      <td>4.8</td>\n",
       "      <td>1.8</td>\n",
       "      <td>2.0</td>\n",
       "    </tr>\n",
       "    <tr>\n",
       "      <th>3</th>\n",
       "      <td>3</td>\n",
       "      <td>7.7</td>\n",
       "      <td>3.8</td>\n",
       "      <td>6.7</td>\n",
       "      <td>2.2</td>\n",
       "      <td>2.0</td>\n",
       "    </tr>\n",
       "    <tr>\n",
       "      <th>4</th>\n",
       "      <td>4</td>\n",
       "      <td>7.2</td>\n",
       "      <td>3.0</td>\n",
       "      <td>5.8</td>\n",
       "      <td>1.6</td>\n",
       "      <td>2.0</td>\n",
       "    </tr>\n",
       "    <tr>\n",
       "      <th>...</th>\n",
       "      <td>...</td>\n",
       "      <td>...</td>\n",
       "      <td>...</td>\n",
       "      <td>...</td>\n",
       "      <td>...</td>\n",
       "      <td>...</td>\n",
       "    </tr>\n",
       "    <tr>\n",
       "      <th>95</th>\n",
       "      <td>95</td>\n",
       "      <td>5.0</td>\n",
       "      <td>3.5</td>\n",
       "      <td>1.6</td>\n",
       "      <td>0.6</td>\n",
       "      <td>NaN</td>\n",
       "    </tr>\n",
       "    <tr>\n",
       "      <th>96</th>\n",
       "      <td>96</td>\n",
       "      <td>5.4</td>\n",
       "      <td>3.9</td>\n",
       "      <td>1.7</td>\n",
       "      <td>0.4</td>\n",
       "      <td>0.0</td>\n",
       "    </tr>\n",
       "    <tr>\n",
       "      <th>97</th>\n",
       "      <td>97</td>\n",
       "      <td>5.1</td>\n",
       "      <td>3.4</td>\n",
       "      <td>1.5</td>\n",
       "      <td>0.2</td>\n",
       "      <td>0.0</td>\n",
       "    </tr>\n",
       "    <tr>\n",
       "      <th>98</th>\n",
       "      <td>98</td>\n",
       "      <td>5.0</td>\n",
       "      <td>3.6</td>\n",
       "      <td>1.4</td>\n",
       "      <td>0.2</td>\n",
       "      <td>0.0</td>\n",
       "    </tr>\n",
       "    <tr>\n",
       "      <th>99</th>\n",
       "      <td>99</td>\n",
       "      <td>5.0</td>\n",
       "      <td>3.4</td>\n",
       "      <td>1.6</td>\n",
       "      <td>0.4</td>\n",
       "      <td>0.0</td>\n",
       "    </tr>\n",
       "  </tbody>\n",
       "</table>\n",
       "<p>100 rows × 6 columns</p>\n",
       "</div>"
      ],
      "text/plain": [
       "    index  sepal-length  sepal-width  petal-length  petal-width  target\n",
       "0       0           6.7          3.0           5.2          2.3     2.0\n",
       "1       1           6.0          2.2           5.0          1.5     2.0\n",
       "2       2           6.2          2.8           4.8          1.8     2.0\n",
       "3       3           7.7          3.8           6.7          2.2     2.0\n",
       "4       4           7.2          3.0           5.8          1.6     2.0\n",
       "..    ...           ...          ...           ...          ...     ...\n",
       "95     95           5.0          3.5           1.6          0.6     NaN\n",
       "96     96           5.4          3.9           1.7          0.4     0.0\n",
       "97     97           5.1          3.4           1.5          0.2     0.0\n",
       "98     98           5.0          3.6           1.4          0.2     0.0\n",
       "99     99           5.0          3.4           1.6          0.4     0.0\n",
       "\n",
       "[100 rows x 6 columns]"
      ]
     },
     "execution_count": 5,
     "metadata": {},
     "output_type": "execute_result"
    }
   ],
   "source": [
    "\n",
    "\n",
    "gb = GradientBoostingClassifier()\n",
    "gb.fit(df_train[context_features].values, df_train[action_features].values.reshape(-1))\n",
    "\n",
    "# Use predicted features to inform Howso Engine\n",
    "\n",
    "df_test['target'] = df_test['target']\n",
    "df_test = df_test.reset_index(drop=True)\n",
    "df_test = df_test.reset_index()\n",
    "\n",
    "df_test"
   ]
  },
  {
   "attachments": {},
   "cell_type": "markdown",
   "id": "1adc279b",
   "metadata": {},
   "source": [
    "## Step 5: Train the Howso Model\n",
    "\n",
    "The Howso model will be trained on the modified data set trained above. We leverage online learning to record explanations with each case that is trained. We make sure to use the predicted target from the non-Howso model as well as the index to diversify the ways in which we can monitor the model. The index allows us to determine whether or not the time at which a given case was trained is important for prediction, which could indicate drift, while the predicted target allows us to note disagreements between the two models."
   ]
  },
  {
   "cell_type": "code",
   "execution_count": 6,
   "id": "e11c6357",
   "metadata": {},
   "outputs": [
    {
     "name": "stdout",
     "output_type": "stream",
     "text": [
      "['index', 'sepal-length', 'sepal-width', 'petal-length', 'petal-width']\n",
      "Case 52 is anomalous.\n"
     ]
    },
    {
     "data": {
      "text/plain": [
       "index           52.0\n",
       "sepal-length     5.3\n",
       "sepal-width      3.7\n",
       "petal-length     1.5\n",
       "petal-width      0.2\n",
       "target           NaN\n",
       "pred             1.0\n",
       "Name: 52, dtype: float64"
      ]
     },
     "metadata": {},
     "output_type": "display_data"
    },
    {
     "name": "stdout",
     "output_type": "stream",
     "text": [
      "ENGINE feature importance: ['sepal-width', 'petal-length', 'sepal-length']\n",
      "MODEL feature importance  : ['sepal-width', 'petal-length', 'petal-width']\n",
      "\n",
      "=====\n",
      "\n",
      "Case 53 is anomalous.\n"
     ]
    },
    {
     "data": {
      "text/plain": [
       "index           53.0\n",
       "sepal-length     4.8\n",
       "sepal-width      3.1\n",
       "petal-length     1.6\n",
       "petal-width      0.2\n",
       "target           NaN\n",
       "pred             1.0\n",
       "Name: 53, dtype: float64"
      ]
     },
     "metadata": {},
     "output_type": "display_data"
    },
    {
     "name": "stdout",
     "output_type": "stream",
     "text": [
      "ENGINE feature importance: ['petal-width', 'petal-length', 'sepal-length']\n",
      "MODEL feature importance  : ['sepal-width', 'petal-length', 'petal-width']\n",
      "\n",
      "=====\n",
      "\n",
      "Case 55 is anomalous.\n"
     ]
    },
    {
     "data": {
      "text/plain": [
       "index           55.0\n",
       "sepal-length     5.0\n",
       "sepal-width      3.0\n",
       "petal-length     1.6\n",
       "petal-width      0.2\n",
       "target           0.0\n",
       "pred             1.0\n",
       "Name: 55, dtype: float64"
      ]
     },
     "metadata": {},
     "output_type": "display_data"
    },
    {
     "name": "stdout",
     "output_type": "stream",
     "text": [
      "ENGINE feature importance: ['sepal-width', 'petal-length', 'petal-width']\n",
      "MODEL feature importance  : ['sepal-width', 'petal-length', 'petal-width']\n",
      "\n",
      "=====\n",
      "\n",
      "Case 56 is anomalous.\n"
     ]
    },
    {
     "data": {
      "text/plain": [
       "index           56.0\n",
       "sepal-length     5.5\n",
       "sepal-width      3.5\n",
       "petal-length     1.3\n",
       "petal-width      0.2\n",
       "target           NaN\n",
       "pred             1.0\n",
       "Name: 56, dtype: float64"
      ]
     },
     "metadata": {},
     "output_type": "display_data"
    },
    {
     "name": "stdout",
     "output_type": "stream",
     "text": [
      "ENGINE feature importance: ['sepal-width', 'petal-length', 'petal-width']\n",
      "MODEL feature importance  : ['sepal-width', 'petal-length', 'petal-width']\n",
      "\n",
      "=====\n",
      "\n",
      "Case 61 is anomalous.\n"
     ]
    },
    {
     "data": {
      "text/plain": [
       "index           61.0\n",
       "sepal-length     4.9\n",
       "sepal-width      3.1\n",
       "petal-length     1.5\n",
       "petal-width      0.1\n",
       "target           NaN\n",
       "pred             1.0\n",
       "Name: 61, dtype: float64"
      ]
     },
     "metadata": {},
     "output_type": "display_data"
    },
    {
     "name": "stdout",
     "output_type": "stream",
     "text": [
      "ENGINE feature importance: ['sepal-width', 'petal-length', 'sepal-length']\n",
      "MODEL feature importance  : ['sepal-width', 'petal-length', 'petal-width']\n",
      "\n",
      "=====\n",
      "\n",
      "Case 62 is anomalous.\n"
     ]
    },
    {
     "data": {
      "text/plain": [
       "index           62.0\n",
       "sepal-length     5.4\n",
       "sepal-width      3.9\n",
       "petal-length     1.3\n",
       "petal-width      0.4\n",
       "target           NaN\n",
       "pred             1.0\n",
       "Name: 62, dtype: float64"
      ]
     },
     "metadata": {},
     "output_type": "display_data"
    },
    {
     "name": "stdout",
     "output_type": "stream",
     "text": [
      "ENGINE feature importance: ['sepal-width', 'petal-length', 'petal-width']\n",
      "MODEL feature importance  : ['sepal-width', 'petal-length', 'petal-width']\n",
      "\n",
      "=====\n",
      "\n",
      "Case 63 is anomalous.\n"
     ]
    },
    {
     "data": {
      "text/plain": [
       "index           63.0\n",
       "sepal-length     5.1\n",
       "sepal-width      3.5\n",
       "petal-length     1.4\n",
       "petal-width      0.2\n",
       "target           0.0\n",
       "pred             1.0\n",
       "Name: 63, dtype: float64"
      ]
     },
     "metadata": {},
     "output_type": "display_data"
    },
    {
     "name": "stdout",
     "output_type": "stream",
     "text": [
      "ENGINE feature importance: ['sepal-width', 'petal-length', 'petal-width']\n",
      "MODEL feature importance  : ['sepal-width', 'petal-length', 'petal-width']\n",
      "\n",
      "=====\n",
      "\n",
      "Case 64 is anomalous.\n"
     ]
    },
    {
     "data": {
      "text/plain": [
       "index           64.0\n",
       "sepal-length     4.8\n",
       "sepal-width      3.4\n",
       "petal-length     1.9\n",
       "petal-width      0.2\n",
       "target           NaN\n",
       "pred             1.0\n",
       "Name: 64, dtype: float64"
      ]
     },
     "metadata": {},
     "output_type": "display_data"
    },
    {
     "name": "stdout",
     "output_type": "stream",
     "text": [
      "ENGINE feature importance: ['sepal-width', 'petal-length', 'petal-width']\n",
      "MODEL feature importance  : ['sepal-width', 'petal-length', 'petal-width']\n",
      "\n",
      "=====\n",
      "\n",
      "Case 69 is anomalous.\n"
     ]
    },
    {
     "data": {
      "text/plain": [
       "index           69.0\n",
       "sepal-length     4.4\n",
       "sepal-width      3.0\n",
       "petal-length     1.3\n",
       "petal-width      0.2\n",
       "target           NaN\n",
       "pred             1.0\n",
       "Name: 69, dtype: float64"
      ]
     },
     "metadata": {},
     "output_type": "display_data"
    },
    {
     "name": "stdout",
     "output_type": "stream",
     "text": [
      "ENGINE feature importance: ['sepal-width', 'petal-length', 'petal-width']\n",
      "MODEL feature importance  : ['sepal-width', 'petal-length', 'petal-width']\n",
      "\n",
      "=====\n",
      "\n",
      "Case 77 is anomalous.\n"
     ]
    },
    {
     "data": {
      "text/plain": [
       "index           77.0\n",
       "sepal-length     4.7\n",
       "sepal-width      3.2\n",
       "petal-length     1.3\n",
       "petal-width      0.2\n",
       "target           0.0\n",
       "pred             1.0\n",
       "Name: 77, dtype: float64"
      ]
     },
     "metadata": {},
     "output_type": "display_data"
    },
    {
     "name": "stdout",
     "output_type": "stream",
     "text": [
      "ENGINE feature importance: ['sepal-width', 'petal-length', 'petal-width']\n",
      "MODEL feature importance  : ['sepal-width', 'petal-length', 'petal-width']\n",
      "\n",
      "=====\n",
      "\n",
      "Case 79 is anomalous.\n"
     ]
    },
    {
     "data": {
      "text/plain": [
       "index           79.0\n",
       "sepal-length     5.0\n",
       "sepal-width      3.4\n",
       "petal-length     1.5\n",
       "petal-width      0.2\n",
       "target           NaN\n",
       "pred             1.0\n",
       "Name: 79, dtype: float64"
      ]
     },
     "metadata": {},
     "output_type": "display_data"
    },
    {
     "name": "stdout",
     "output_type": "stream",
     "text": [
      "ENGINE feature importance: ['sepal-width', 'petal-length', 'petal-width']\n",
      "MODEL feature importance  : ['sepal-width', 'petal-length', 'petal-width']\n",
      "\n",
      "=====\n",
      "\n",
      "Case 82 is anomalous.\n"
     ]
    },
    {
     "data": {
      "text/plain": [
       "index           82.0\n",
       "sepal-length     4.9\n",
       "sepal-width      3.1\n",
       "petal-length     1.5\n",
       "petal-width      0.1\n",
       "target           0.0\n",
       "pred             1.0\n",
       "Name: 82, dtype: float64"
      ]
     },
     "metadata": {},
     "output_type": "display_data"
    },
    {
     "name": "stdout",
     "output_type": "stream",
     "text": [
      "ENGINE feature importance: ['petal-length', 'sepal-length', 'petal-width']\n",
      "MODEL feature importance  : ['sepal-width', 'petal-length', 'petal-width']\n",
      "\n",
      "=====\n",
      "\n",
      "Case 91 is anomalous.\n"
     ]
    },
    {
     "data": {
      "text/plain": [
       "index           91.0\n",
       "sepal-length     5.1\n",
       "sepal-width      3.7\n",
       "petal-length     1.5\n",
       "petal-width      0.4\n",
       "target           NaN\n",
       "pred             1.0\n",
       "Name: 91, dtype: float64"
      ]
     },
     "metadata": {},
     "output_type": "display_data"
    },
    {
     "name": "stdout",
     "output_type": "stream",
     "text": [
      "ENGINE feature importance: ['sepal-width', 'petal-length', 'petal-width']\n",
      "MODEL feature importance  : ['sepal-width', 'petal-length', 'petal-width']\n",
      "\n",
      "=====\n",
      "\n",
      "Case 94 is anomalous.\n"
     ]
    },
    {
     "data": {
      "text/plain": [
       "index           94.0\n",
       "sepal-length     4.8\n",
       "sepal-width      3.0\n",
       "petal-length     1.4\n",
       "petal-width      0.1\n",
       "target           0.0\n",
       "pred             1.0\n",
       "Name: 94, dtype: float64"
      ]
     },
     "metadata": {},
     "output_type": "display_data"
    },
    {
     "name": "stdout",
     "output_type": "stream",
     "text": [
      "ENGINE feature importance: ['sepal-width', 'petal-length', 'petal-width']\n",
      "MODEL feature importance  : ['sepal-width', 'petal-length', 'petal-width']\n",
      "\n",
      "=====\n",
      "\n",
      "Case 95 is anomalous.\n"
     ]
    },
    {
     "data": {
      "text/plain": [
       "index           95.0\n",
       "sepal-length     5.0\n",
       "sepal-width      3.5\n",
       "petal-length     1.6\n",
       "petal-width      0.6\n",
       "target           NaN\n",
       "pred             1.0\n",
       "Name: 95, dtype: float64"
      ]
     },
     "metadata": {},
     "output_type": "display_data"
    },
    {
     "name": "stdout",
     "output_type": "stream",
     "text": [
      "ENGINE feature importance: ['sepal-width', 'petal-length', 'petal-width']\n",
      "MODEL feature importance  : ['sepal-width', 'petal-length', 'petal-width']\n",
      "\n",
      "=====\n",
      "\n",
      "Case 98 is anomalous.\n"
     ]
    },
    {
     "data": {
      "text/plain": [
       "index           98.0\n",
       "sepal-length     5.0\n",
       "sepal-width      3.6\n",
       "petal-length     1.4\n",
       "petal-width      0.2\n",
       "target           0.0\n",
       "pred             1.0\n",
       "Name: 98, dtype: float64"
      ]
     },
     "metadata": {},
     "output_type": "display_data"
    },
    {
     "name": "stdout",
     "output_type": "stream",
     "text": [
      "ENGINE feature importance: ['sepal-width', 'petal-length', 'petal-width']\n",
      "MODEL feature importance  : ['sepal-width', 'petal-length', 'petal-width']\n",
      "\n",
      "=====\n",
      "\n"
     ]
    }
   ],
   "source": [
    "# Create and train REACTOR\n",
    "mismatch_counts = []\n",
    "\n",
    "features = infer_feature_attributes(df_test)\n",
    "new_context_features = None\n",
    "\n",
    "familiarity_conviction_dp = []\n",
    "familiarity_conviction_gb = []\n",
    "mda_interpret = []\n",
    "mda_explain = []\n",
    "\n",
    "# Create trainee and turn on auto-analyze\n",
    "t = engine.Trainee(\"Engine - Drift Monitoring Recipe\", features, overwrite_existing=True)\n",
    "t.set_auto_analyze_params(analyze_threshold=1)\n",
    "for idx, case in df_test.iterrows():\n",
    "    # Define which details we want from the Howso model\n",
    "    details = {\n",
    "        'feature_mda': True\n",
    "    }\n",
    "    \n",
    "    # Predict using the gradient booster\n",
    "    pred_gb = gb.predict(case[context_features].values.reshape(1, -1))[0]\n",
    "    gb_case = case.copy()\n",
    "    gb_case.target = pred_gb\n",
    "    \n",
    "    # Define the updates context features\n",
    "    if new_context_features is None:\n",
    "        new_context_features = [col for col in case.index if col not in action_features]\n",
    "        print(new_context_features)\n",
    "        \n",
    "    # React on the new case\n",
    "    result = t.react(case[new_context_features].values.reshape(1, -1),\n",
    "                     action_features=action_features,\n",
    "                     context_features=new_context_features,\n",
    "                     details=details)\n",
    "    action = result['action']\n",
    "    explanation = result['explanation']\n",
    "    \n",
    "    # Train on the new case\n",
    "    t.train([case.values.tolist()], features=df_test.columns.tolist())\n",
    "    \n",
    "    # Store the Howso prediction\n",
    "    pred_dp = action.iloc[0, 0]\n",
    "    \n",
    "    # Compute familiarity conviction for case\n",
    "    f_conv = t.react_group(new_cases=[[case.values.tolist()], [gb_case.values.tolist()]], features=df_test.columns.tolist())\n",
    "    f_conv_dp = f_conv['familiarity_conviction_addition'].iloc[0]\n",
    "    f_conv_gb = f_conv['familiarity_conviction_addition'].iloc[1]\n",
    "    familiarity_conviction_dp.append(f_conv_dp)\n",
    "    familiarity_conviction_gb.append(f_conv_gb)\n",
    "    \n",
    "    if pred_dp != pred_gb:\n",
    "        mismatch_counts.append(1)\n",
    "    else:\n",
    "        mismatch_counts.append(0)\n",
    "        \n",
    "    if pred_dp != pred_gb and f_conv_dp < 0.5 * np.mean(familiarity_conviction_dp) and idx > 30:\n",
    "        print(f\"Case {idx} is anomalous.\")\n",
    "        case['pred'] = pred_gb\n",
    "        display(case)\n",
    "        dp_importances = [val for key, val in explanation['feature_mda'][0].items() if key in context_features]\n",
    "        gb_importances = gb.feature_importances_.tolist()\n",
    "        print(f\"ENGINE feature importance: {[context_features[i] for i in np.argpartition(dp_importances, -3)[-3:]]}\")\n",
    "        print(f\"MODEL feature importance  : {[context_features[i] for i in np.argpartition(gb_importances, -3)[-3:]]}\")\n",
    "        print(\"\\n=====\\n\")\n",
    "        \n",
    "    # Get interpret MDA\n",
    "    details = {\n",
    "        'robust_computation': True,\n",
    "        'feature_mda_ex_post': True\n",
    "    }\n",
    "    result = t.react(case[new_context_features].values.reshape(1, -1), \n",
    "                     actions=[[case.target]],\n",
    "                     action_features=action_features,\n",
    "                     context_features=new_context_features,\n",
    "                     details=details)\n",
    "    action = result['action']\n",
    "    explanation = result['explanation']\n",
    "    mda_interpret.append(explanation['feature_mda_ex_post'][0])\n",
    "    \n",
    "    # Get explain MDA\n",
    "    result = t.react(case[new_context_features].values.reshape(1, -1), \n",
    "                     actions=[[gb_case.target]],\n",
    "                     action_features=action_features,\n",
    "                     context_features=new_context_features,\n",
    "                     details=details)\n",
    "    action = result['action']\n",
    "    explanation = result['explanation']\n",
    "    mda_explain.append(explanation['feature_mda_ex_post'][0])"
   ]
  },
  {
   "attachments": {},
   "cell_type": "markdown",
   "id": "a997c787",
   "metadata": {},
   "source": [
    "## Step 6: \"Deploy\" the non-Howso Model\n",
    "\n",
    "We iterate through the test set, getting predictions from both the non-Howso and Howso model. Explanations are recorded at each step, and anomalous cases are brought to the forefront including feature importance and predictions. The Howso model learns from this information as each new case is predicted. The non-Howso model is not updated online."
   ]
  },
  {
   "attachments": {},
   "cell_type": "markdown",
   "id": "84efcdfc",
   "metadata": {},
   "source": [
    "## The beginning of model drift is made very clear by the drop in familiarity conviction.\n",
    "\n",
    "This demo was created in such a way to make the effects of drift very obvious. It may be more subtle with a real-world model."
   ]
  },
  {
   "cell_type": "code",
   "execution_count": 7,
   "id": "db6fddae",
   "metadata": {},
   "outputs": [
    {
     "name": "stderr",
     "output_type": "stream",
     "text": [
      "/Users/jackxia/.pyenv/versions/3.11.0/envs/recipes_engine_311/lib/python3.11/site-packages/seaborn/utils.py:456: MatplotlibDeprecationWarning: The legendHandles attribute was deprecated in Matplotlib 3.7 and will be removed two minor releases later. Use legend_handles instead.\n",
      "  handles = old_legend.legendHandles\n"
     ]
    },
    {
     "data": {
      "image/png": "[encoded data removed]",
      "text/plain": [
       "<Figure size 1000x500 with 1 Axes>"
      ]
     },
     "metadata": {},
     "output_type": "display_data"
    }
   ],
   "source": [
    "f_conv_df = pd.DataFrame(familiarity_conviction_dp, columns=[\"Familiarity Conviction (DP)\"])\n",
    "f_conv_df[\"Familiarity Conviction (GB)\"] = familiarity_conviction_gb\n",
    "f_conv_df_plt_df=f_conv_df.rolling(10).mean().fillna(0)\n",
    "f_conv_df_plt_df = pd.melt(f_conv_df_plt_df.reset_index(),id_vars='index', \n",
    "                           value_vars=['Familiarity Conviction (DP)', 'Familiarity Conviction (GB)'])\n",
    "\n",
    "sns.set(rc={\"figure.figsize\":(10, 5)})\n",
    "plot = sns.lineplot(x='index', y='value', hue='variable', data=f_conv_df_plt_df)\n",
    "sns.move_legend(plot, \"upper left\", bbox_to_anchor=(1, 1))\n",
    "plt.axvline(x=30, color = 'black')\n",
    "plt.axvline(x=len(df_test_no_drift), color = 'black')\n",
    "plt.show()\n"
   ]
  },
  {
   "cell_type": "code",
   "execution_count": 8,
   "id": "32e087b0-7897-4424-bf86-973564345539",
   "metadata": {},
   "outputs": [],
   "source": [
    "# calculate delta conviction between Howso vs. GB model\n",
    "conv_delta = f_conv_df['Familiarity Conviction (DP)'] - f_conv_df['Familiarity Conviction (GB)']\n",
    "\n",
    "# calculate average delta for the latter portion of the data (after drift occurred)\n",
    "avg_delta = conv_delta[int(len(conv_delta) * 2 / 3):len(conv_delta)].mean()"
   ]
  },
  {
   "attachments": {},
   "cell_type": "markdown",
   "id": "a62b9819",
   "metadata": {},
   "source": [
    "## We can also count the number of times the models disagree with each other"
   ]
  },
  {
   "cell_type": "code",
   "execution_count": 9,
   "id": "d759e54d",
   "metadata": {},
   "outputs": [
    {
     "name": "stderr",
     "output_type": "stream",
     "text": [
      "/Users/jackxia/.pyenv/versions/3.11.0/envs/recipes_engine_311/lib/python3.11/site-packages/seaborn/utils.py:456: MatplotlibDeprecationWarning: The legendHandles attribute was deprecated in Matplotlib 3.7 and will be removed two minor releases later. Use legend_handles instead.\n",
      "  handles = old_legend.legendHandles\n"
     ]
    },
    {
     "data": {
      "image/png": "[encoded data removed]",
      "text/plain": [
       "<Figure size 1000x500 with 1 Axes>"
      ]
     },
     "metadata": {},
     "output_type": "display_data"
    }
   ],
   "source": [
    "mismatch_count_df = pd.DataFrame(mismatch_counts, columns=[\"Prediction Deviation\"])\n",
    "mismatch_count_df[\"Prediction Deviation\"] /= 5\n",
    "mismatch_count_rolling_df = mismatch_count_df.rolling(5).sum().fillna(0)\n",
    "\n",
    "plot = sns.lineplot(x=mismatch_count_rolling_df.index, y='Prediction Deviation', data=mismatch_count_rolling_df)\n",
    "plt.legend(title = 'variable', labels = mismatch_count_rolling_df.columns)\n",
    "sns.move_legend(plot, \"upper left\", bbox_to_anchor=(1, 1))\n",
    "plt.ylabel(\"value\")\n",
    "plt.xlabel(\"index\")\n",
    "plt.axvline(x=30, color = 'black')\n",
    "plt.axvline(x=len(df_test_no_drift), color = 'black')\n",
    "plt.show()"
   ]
  },
  {
   "cell_type": "code",
   "execution_count": 10,
   "id": "53baad36-c7c7-4bef-8efc-045f5b922b0d",
   "metadata": {},
   "outputs": [],
   "source": [
    "# extract the series\n",
    "mismatch_series = mismatch_count_df['Prediction Deviation']\n",
    "\n",
    "# calculate before and after drift mismatch\n",
    "after_drift = mismatch_series.iloc[int(len(mismatch_series) * 2 / 3):].mean()\n",
    "before_drift = mismatch_series.iloc[:int(len(mismatch_series) * 1 / 3)].mean()\n",
    "\n",
    "avg_pred_mismatch = after_drift - before_drift"
   ]
  },
  {
   "attachments": {},
   "cell_type": "markdown",
   "id": "d16ce499-8fbe-4707-94fa-73883bc7e8e4",
   "metadata": {},
   "source": [
    "# Another method is monitor changes in feature importance between the models"
   ]
  },
  {
   "cell_type": "code",
   "execution_count": 11,
   "id": "43462f93-c9d6-4ceb-9417-94ac8e024ad6",
   "metadata": {},
   "outputs": [],
   "source": [
    "# remove situations when both features are 0 or negative\n",
    "def check_case(s1, s2):\n",
    "    for i, j in zip(s1, s2):\n",
    "        if (i <=0) and (j <=0):\n",
    "            return True\n",
    "    return False\n",
    "\n",
    "# clean up mean-decrease-accuracy for kl-divergence calculation\n",
    "def clean_mda(df_int, df_exp):\n",
    "    ind_for_remove = []\n",
    "    \n",
    "    # Store all zero values\n",
    "    ind_zeros = []\n",
    "    \n",
    "    for i in df_int.index:\n",
    "        if check_case(df_int.loc[i, :], df_exp.loc[i, :]):\n",
    "            ind_for_remove.append(i)\n",
    "\n",
    "        # If everything are zeros, set kl-divergence = 0 later on\n",
    "        if (df_int.loc[i, :] == 0).all() and (df_exp.loc[i, :] == 0).all():\n",
    "            ind_zeros.append(i)\n",
    "    \n",
    "    df_int_clean = df_int.drop(ind_for_remove)\n",
    "    df_exp_clean = df_exp.drop(ind_for_remove)\n",
    "    \n",
    "    # if still negative, set to zero\n",
    "    df_int_clean[df_int_clean < 0] = 0\n",
    "    df_exp_clean[df_exp_clean < 0] = 0\n",
    "\n",
    "    # if there are any all zero records left, set to inf during kl-divergence calculation\n",
    "    ind_inf = []\n",
    "    ind_for_remove = []\n",
    "    for i in df_int_clean.index:\n",
    "        if (df_int_clean.loc[i, :] == 0).all() or (df_exp_clean.loc[i, :] == 0).all():\n",
    "            ind_for_remove.append(i)\n",
    "            ind_inf.append(i)\n",
    "\n",
    "    df_int_clean = df_int_clean.drop(ind_for_remove)\n",
    "    df_exp_clean = df_exp_clean.drop(ind_for_remove)\n",
    "            \n",
    "    return df_int_clean, df_exp_clean, ind_zeros, ind_inf"
   ]
  },
  {
   "cell_type": "code",
   "execution_count": 12,
   "id": "d761ce67-dc1f-46eb-ab1a-7d4d5a61d4ed",
   "metadata": {},
   "outputs": [],
   "source": [
    "mda_int = pd.DataFrame(mda_interpret)\n",
    "mda_exp = pd.DataFrame(mda_explain)\n",
    "\n",
    "mda_int, mda_exp, ind_zeros, ind_inf = clean_mda(mda_int, mda_exp)\n",
    "\n",
    "kl_div = pd.Series(entropy(pk=mda_int, qk=mda_exp, axis=1), index=mda_int.index)\n",
    "\n",
    "# Using zeros where all values = 0\n",
    "for i in ind_zeros:\n",
    "    kl_div.loc[i] = 0\n",
    "    \n",
    "for i in ind_inf:\n",
    "    kl_div.loc[i] = np.inf\n",
    "\n",
    "kl_div = kl_div.sort_index()\n",
    "\n",
    "non_inf = kl_div[~(kl_div == np.inf)]\n",
    "inf = kl_div[kl_div == np.inf]"
   ]
  },
  {
   "cell_type": "code",
   "execution_count": 13,
   "id": "471da9cb",
   "metadata": {},
   "outputs": [
    {
     "name": "stderr",
     "output_type": "stream",
     "text": [
      "/Users/jackxia/.pyenv/versions/3.11.0/envs/recipes_engine_311/lib/python3.11/site-packages/seaborn/utils.py:456: MatplotlibDeprecationWarning: The legendHandles attribute was deprecated in Matplotlib 3.7 and will be removed two minor releases later. Use legend_handles instead.\n",
      "  handles = old_legend.legendHandles\n"
     ]
    },
    {
     "data": {
      "image/png": "[encoded data removed]",
      "text/plain": [
       "<Figure size 1000x500 with 1 Axes>"
      ]
     },
     "metadata": {},
     "output_type": "display_data"
    }
   ],
   "source": [
    "non_inf_rolling_y=min(round(len(non_inf)/2),5)\n",
    "plot=sns.scatterplot(data=inf, x=inf.index, y=[np.max(non_inf)] * len(inf))\n",
    "plot=sns.lineplot(x=non_inf.index, y=non_inf.rolling(non_inf_rolling_y).mean(), data=non_inf, color = 'r')\n",
    "plt.legend([\"infinity\", \"kl_divergence\"])\n",
    "sns.move_legend(plot, \"upper left\", bbox_to_anchor=(1, 1))\n",
    "plt.ylabel(\"KL-Divergence\")\n",
    "plt.xlabel(\"index\")\n",
    "plt.show()"
   ]
  },
  {
   "cell_type": "code",
   "execution_count": 14,
   "id": "f1517889-1817-464e-8894-3fd8ec815a96",
   "metadata": {},
   "outputs": [
    {
     "data": {
      "text/plain": [
       "0.7891368405008821"
      ]
     },
     "execution_count": 14,
     "metadata": {},
     "output_type": "execute_result"
    }
   ],
   "source": [
    "# calculate the average kl-divergence before and after drift\n",
    "kl_before_drift = non_inf[ :int(len(non_inf) * 1/3)].mean()\n",
    "kl_after_drift = non_inf[int(len(non_inf) *2 / 3) : ].mean()\n",
    "\n",
    "kl_diff = kl_after_drift - kl_before_drift\n",
    "kl_diff"
   ]
  }
 ],
 "metadata": {
  "kernelspec": {
   "display_name": "Python 3 (ipykernel)",
   "language": "python",
   "name": "python3"
  },
  "language_info": {
   "codemirror_mode": {
    "name": "ipython",
    "version": 3
   },
   "file_extension": ".py",
   "mimetype": "text/x-python",
   "name": "python",
   "nbconvert_exporter": "python",
   "pygments_lexer": "ipython3",
   "version": "3.11.0"
  },
  "vscode": {
   "interpreter": {
    "hash": "5a97d8588cce4b7427f7b841aa84f596036816f81d1a6ebef91f01881d12ee0c"
   }
  }
 },
 "nbformat": 4,
 "nbformat_minor": 5
}
