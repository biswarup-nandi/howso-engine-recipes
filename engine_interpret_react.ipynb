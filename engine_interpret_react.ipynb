{
 "cells": [
  {
   "attachments": {},
   "cell_type": "markdown",
   "metadata": {},
   "source": [
    "# Overview\n",
    "\n",
    "This notebook provides an overview of applying Howso Engine to make predictions based on historical data and harnessing Howso Engine’s interpretability capabilities to understand why the predictions were made. Here, we demonstrate these capabilities on asteroid data. We build a Howso Engine Trainee to predict various information about different asteroids, understand the influential cases on the predictions, and understand the uncertainty of the predictions. This is a straightforward example of the power of Howso Engine to gain insights from data. "
   ]
  },
  {
   "cell_type": "code",
   "execution_count": 1,
   "metadata": {},
   "outputs": [],
   "source": [
    "from pprint import pprint\n",
    "import warnings\n",
    "\n",
    "import pandas as pd\n",
    "\n",
    "from howso.engine import Trainee\n",
    "from howso.utilities import infer_feature_attributes"
   ]
  },
  {
   "attachments": {},
   "cell_type": "markdown",
   "metadata": {},
   "source": [
    "# Step 1: Load and Map the Data\n",
    "\n",
    "## For this demonstration we will use a subset of a dataset containing measurements of various asteroids"
   ]
  },
  {
   "cell_type": "code",
   "execution_count": 2,
   "metadata": {},
   "outputs": [
    {
     "data": {
      "text/html": [
       "<div>\n",
       "<style scoped>\n",
       "    .dataframe tbody tr th:only-of-type {\n",
       "        vertical-align: middle;\n",
       "    }\n",
       "\n",
       "    .dataframe tbody tr th {\n",
       "        vertical-align: top;\n",
       "    }\n",
       "\n",
       "    .dataframe thead th {\n",
       "        text-align: right;\n",
       "    }\n",
       "</style>\n",
       "<table border=\"1\" class=\"dataframe\">\n",
       "  <thead>\n",
       "    <tr style=\"text-align: right;\">\n",
       "      <th></th>\n",
       "      <th>full_name</th>\n",
       "      <th>a</th>\n",
       "      <th>e</th>\n",
       "      <th>G</th>\n",
       "      <th>i</th>\n",
       "      <th>om</th>\n",
       "      <th>w</th>\n",
       "      <th>q</th>\n",
       "      <th>ad</th>\n",
       "      <th>per_y</th>\n",
       "      <th>...</th>\n",
       "      <th>rot_per</th>\n",
       "      <th>GM</th>\n",
       "      <th>BV</th>\n",
       "      <th>UB</th>\n",
       "      <th>IR</th>\n",
       "      <th>spec_B</th>\n",
       "      <th>spec_T</th>\n",
       "      <th>neo</th>\n",
       "      <th>pha</th>\n",
       "      <th>moid</th>\n",
       "    </tr>\n",
       "  </thead>\n",
       "  <tbody>\n",
       "    <tr>\n",
       "      <th>0</th>\n",
       "      <td>1 Ceres</td>\n",
       "      <td>2.769165</td>\n",
       "      <td>0.076009</td>\n",
       "      <td>0.12</td>\n",
       "      <td>10.594067</td>\n",
       "      <td>80.305532</td>\n",
       "      <td>73.597694</td>\n",
       "      <td>2.558684</td>\n",
       "      <td>2.979647</td>\n",
       "      <td>4.608202</td>\n",
       "      <td>...</td>\n",
       "      <td>9.074170</td>\n",
       "      <td>62.6284</td>\n",
       "      <td>0.713</td>\n",
       "      <td>0.426</td>\n",
       "      <td>NaN</td>\n",
       "      <td>C</td>\n",
       "      <td>G</td>\n",
       "      <td>N</td>\n",
       "      <td>N</td>\n",
       "      <td>1.594780</td>\n",
       "    </tr>\n",
       "    <tr>\n",
       "      <th>1</th>\n",
       "      <td>2 Pallas</td>\n",
       "      <td>2.772466</td>\n",
       "      <td>0.230337</td>\n",
       "      <td>0.11</td>\n",
       "      <td>34.836234</td>\n",
       "      <td>173.080063</td>\n",
       "      <td>310.048857</td>\n",
       "      <td>2.133865</td>\n",
       "      <td>3.411067</td>\n",
       "      <td>4.616444</td>\n",
       "      <td>...</td>\n",
       "      <td>7.813200</td>\n",
       "      <td>14.3000</td>\n",
       "      <td>0.635</td>\n",
       "      <td>0.284</td>\n",
       "      <td>NaN</td>\n",
       "      <td>B</td>\n",
       "      <td>B</td>\n",
       "      <td>N</td>\n",
       "      <td>N</td>\n",
       "      <td>1.233240</td>\n",
       "    </tr>\n",
       "    <tr>\n",
       "      <th>2</th>\n",
       "      <td>3 Juno</td>\n",
       "      <td>2.669150</td>\n",
       "      <td>0.256942</td>\n",
       "      <td>0.32</td>\n",
       "      <td>12.988919</td>\n",
       "      <td>169.852760</td>\n",
       "      <td>248.138626</td>\n",
       "      <td>1.983332</td>\n",
       "      <td>3.354967</td>\n",
       "      <td>4.360814</td>\n",
       "      <td>...</td>\n",
       "      <td>7.210000</td>\n",
       "      <td>NaN</td>\n",
       "      <td>0.824</td>\n",
       "      <td>0.433</td>\n",
       "      <td>NaN</td>\n",
       "      <td>Sk</td>\n",
       "      <td>S</td>\n",
       "      <td>N</td>\n",
       "      <td>N</td>\n",
       "      <td>1.034540</td>\n",
       "    </tr>\n",
       "    <tr>\n",
       "      <th>3</th>\n",
       "      <td>4 Vesta</td>\n",
       "      <td>2.361418</td>\n",
       "      <td>0.088721</td>\n",
       "      <td>0.32</td>\n",
       "      <td>7.141771</td>\n",
       "      <td>103.810804</td>\n",
       "      <td>150.728541</td>\n",
       "      <td>2.151909</td>\n",
       "      <td>2.570926</td>\n",
       "      <td>3.628837</td>\n",
       "      <td>...</td>\n",
       "      <td>5.342128</td>\n",
       "      <td>17.8000</td>\n",
       "      <td>0.782</td>\n",
       "      <td>0.492</td>\n",
       "      <td>NaN</td>\n",
       "      <td>V</td>\n",
       "      <td>V</td>\n",
       "      <td>N</td>\n",
       "      <td>N</td>\n",
       "      <td>1.139480</td>\n",
       "    </tr>\n",
       "    <tr>\n",
       "      <th>4</th>\n",
       "      <td>5 Astraea</td>\n",
       "      <td>2.574249</td>\n",
       "      <td>0.191095</td>\n",
       "      <td>NaN</td>\n",
       "      <td>5.366988</td>\n",
       "      <td>141.576604</td>\n",
       "      <td>358.687608</td>\n",
       "      <td>2.082324</td>\n",
       "      <td>3.066174</td>\n",
       "      <td>4.130323</td>\n",
       "      <td>...</td>\n",
       "      <td>16.806000</td>\n",
       "      <td>NaN</td>\n",
       "      <td>0.826</td>\n",
       "      <td>0.411</td>\n",
       "      <td>NaN</td>\n",
       "      <td>S</td>\n",
       "      <td>S</td>\n",
       "      <td>N</td>\n",
       "      <td>N</td>\n",
       "      <td>1.095890</td>\n",
       "    </tr>\n",
       "    <tr>\n",
       "      <th>...</th>\n",
       "      <td>...</td>\n",
       "      <td>...</td>\n",
       "      <td>...</td>\n",
       "      <td>...</td>\n",
       "      <td>...</td>\n",
       "      <td>...</td>\n",
       "      <td>...</td>\n",
       "      <td>...</td>\n",
       "      <td>...</td>\n",
       "      <td>...</td>\n",
       "      <td>...</td>\n",
       "      <td>...</td>\n",
       "      <td>...</td>\n",
       "      <td>...</td>\n",
       "      <td>...</td>\n",
       "      <td>...</td>\n",
       "      <td>...</td>\n",
       "      <td>...</td>\n",
       "      <td>...</td>\n",
       "      <td>...</td>\n",
       "      <td>...</td>\n",
       "    </tr>\n",
       "    <tr>\n",
       "      <th>4996</th>\n",
       "      <td>4997 Ksana (1986 TM)</td>\n",
       "      <td>2.871173</td>\n",
       "      <td>0.329960</td>\n",
       "      <td>NaN</td>\n",
       "      <td>32.732948</td>\n",
       "      <td>10.726564</td>\n",
       "      <td>57.718579</td>\n",
       "      <td>1.923802</td>\n",
       "      <td>3.818544</td>\n",
       "      <td>4.865161</td>\n",
       "      <td>...</td>\n",
       "      <td>3.434200</td>\n",
       "      <td>NaN</td>\n",
       "      <td>NaN</td>\n",
       "      <td>NaN</td>\n",
       "      <td>NaN</td>\n",
       "      <td>B</td>\n",
       "      <td>None</td>\n",
       "      <td>N</td>\n",
       "      <td>N</td>\n",
       "      <td>1.058150</td>\n",
       "    </tr>\n",
       "    <tr>\n",
       "      <th>4997</th>\n",
       "      <td>4998 Kabashima (1986 VG)</td>\n",
       "      <td>3.007439</td>\n",
       "      <td>0.073460</td>\n",
       "      <td>NaN</td>\n",
       "      <td>9.904038</td>\n",
       "      <td>352.226415</td>\n",
       "      <td>100.901739</td>\n",
       "      <td>2.786511</td>\n",
       "      <td>3.228367</td>\n",
       "      <td>5.215590</td>\n",
       "      <td>...</td>\n",
       "      <td>6.138000</td>\n",
       "      <td>NaN</td>\n",
       "      <td>NaN</td>\n",
       "      <td>NaN</td>\n",
       "      <td>NaN</td>\n",
       "      <td>None</td>\n",
       "      <td>None</td>\n",
       "      <td>N</td>\n",
       "      <td>N</td>\n",
       "      <td>1.824890</td>\n",
       "    </tr>\n",
       "    <tr>\n",
       "      <th>4998</th>\n",
       "      <td>4999 MPC (1987 CJ)</td>\n",
       "      <td>3.015442</td>\n",
       "      <td>0.040212</td>\n",
       "      <td>NaN</td>\n",
       "      <td>10.473593</td>\n",
       "      <td>155.933107</td>\n",
       "      <td>344.673442</td>\n",
       "      <td>2.894184</td>\n",
       "      <td>3.136701</td>\n",
       "      <td>5.236423</td>\n",
       "      <td>...</td>\n",
       "      <td>NaN</td>\n",
       "      <td>NaN</td>\n",
       "      <td>NaN</td>\n",
       "      <td>NaN</td>\n",
       "      <td>NaN</td>\n",
       "      <td>None</td>\n",
       "      <td>None</td>\n",
       "      <td>N</td>\n",
       "      <td>N</td>\n",
       "      <td>1.907750</td>\n",
       "    </tr>\n",
       "    <tr>\n",
       "      <th>4999</th>\n",
       "      <td>5000 IAU (1987 QN7)</td>\n",
       "      <td>2.537905</td>\n",
       "      <td>0.263911</td>\n",
       "      <td>NaN</td>\n",
       "      <td>6.265176</td>\n",
       "      <td>150.922214</td>\n",
       "      <td>232.797213</td>\n",
       "      <td>1.868123</td>\n",
       "      <td>3.207687</td>\n",
       "      <td>4.043163</td>\n",
       "      <td>...</td>\n",
       "      <td>NaN</td>\n",
       "      <td>NaN</td>\n",
       "      <td>NaN</td>\n",
       "      <td>NaN</td>\n",
       "      <td>NaN</td>\n",
       "      <td>None</td>\n",
       "      <td>None</td>\n",
       "      <td>N</td>\n",
       "      <td>N</td>\n",
       "      <td>0.878287</td>\n",
       "    </tr>\n",
       "    <tr>\n",
       "      <th>5000</th>\n",
       "      <td>5001 EMP (1987 SB1)</td>\n",
       "      <td>2.664662</td>\n",
       "      <td>0.170488</td>\n",
       "      <td>NaN</td>\n",
       "      <td>13.709129</td>\n",
       "      <td>169.905066</td>\n",
       "      <td>151.336692</td>\n",
       "      <td>2.210369</td>\n",
       "      <td>3.118955</td>\n",
       "      <td>4.349821</td>\n",
       "      <td>...</td>\n",
       "      <td>NaN</td>\n",
       "      <td>NaN</td>\n",
       "      <td>NaN</td>\n",
       "      <td>NaN</td>\n",
       "      <td>NaN</td>\n",
       "      <td>None</td>\n",
       "      <td>None</td>\n",
       "      <td>N</td>\n",
       "      <td>N</td>\n",
       "      <td>1.207720</td>\n",
       "    </tr>\n",
       "  </tbody>\n",
       "</table>\n",
       "<p>5001 rows × 27 columns</p>\n",
       "</div>"
      ],
      "text/plain": [
       "                       full_name         a         e     G          i  \\\n",
       "0                        1 Ceres  2.769165  0.076009  0.12  10.594067   \n",
       "1                       2 Pallas  2.772466  0.230337  0.11  34.836234   \n",
       "2                         3 Juno  2.669150  0.256942  0.32  12.988919   \n",
       "3                        4 Vesta  2.361418  0.088721  0.32   7.141771   \n",
       "4                      5 Astraea  2.574249  0.191095   NaN   5.366988   \n",
       "...                          ...       ...       ...   ...        ...   \n",
       "4996        4997 Ksana (1986 TM)  2.871173  0.329960   NaN  32.732948   \n",
       "4997    4998 Kabashima (1986 VG)  3.007439  0.073460   NaN   9.904038   \n",
       "4998          4999 MPC (1987 CJ)  3.015442  0.040212   NaN  10.473593   \n",
       "4999         5000 IAU (1987 QN7)  2.537905  0.263911   NaN   6.265176   \n",
       "5000         5001 EMP (1987 SB1)  2.664662  0.170488   NaN  13.709129   \n",
       "\n",
       "              om           w         q        ad     per_y  ...    rot_per  \\\n",
       "0      80.305532   73.597694  2.558684  2.979647  4.608202  ...   9.074170   \n",
       "1     173.080063  310.048857  2.133865  3.411067  4.616444  ...   7.813200   \n",
       "2     169.852760  248.138626  1.983332  3.354967  4.360814  ...   7.210000   \n",
       "3     103.810804  150.728541  2.151909  2.570926  3.628837  ...   5.342128   \n",
       "4     141.576604  358.687608  2.082324  3.066174  4.130323  ...  16.806000   \n",
       "...          ...         ...       ...       ...       ...  ...        ...   \n",
       "4996   10.726564   57.718579  1.923802  3.818544  4.865161  ...   3.434200   \n",
       "4997  352.226415  100.901739  2.786511  3.228367  5.215590  ...   6.138000   \n",
       "4998  155.933107  344.673442  2.894184  3.136701  5.236423  ...        NaN   \n",
       "4999  150.922214  232.797213  1.868123  3.207687  4.043163  ...        NaN   \n",
       "5000  169.905066  151.336692  2.210369  3.118955  4.349821  ...        NaN   \n",
       "\n",
       "           GM     BV     UB  IR spec_B  spec_T  neo  pha      moid  \n",
       "0     62.6284  0.713  0.426 NaN      C       G    N    N  1.594780  \n",
       "1     14.3000  0.635  0.284 NaN      B       B    N    N  1.233240  \n",
       "2         NaN  0.824  0.433 NaN     Sk       S    N    N  1.034540  \n",
       "3     17.8000  0.782  0.492 NaN      V       V    N    N  1.139480  \n",
       "4         NaN  0.826  0.411 NaN      S       S    N    N  1.095890  \n",
       "...       ...    ...    ...  ..    ...     ...  ...  ...       ...  \n",
       "4996      NaN    NaN    NaN NaN      B    None    N    N  1.058150  \n",
       "4997      NaN    NaN    NaN NaN   None    None    N    N  1.824890  \n",
       "4998      NaN    NaN    NaN NaN   None    None    N    N  1.907750  \n",
       "4999      NaN    NaN    NaN NaN   None    None    N    N  0.878287  \n",
       "5000      NaN    NaN    NaN NaN   None    None    N    N  1.207720  \n",
       "\n",
       "[5001 rows x 27 columns]"
      ]
     },
     "execution_count": 2,
     "metadata": {},
     "output_type": "execute_result"
    }
   ],
   "source": [
    "dataset_path = \"data/asteroid.csv\"\n",
    "df_full = pd.read_csv(dataset_path, low_memory=False)\n",
    "header = list(df_full)\n",
    "df = df_full.truncate(after=5000)\n",
    "df = df.where(df.notnull(), None)\n",
    "\n",
    "df"
   ]
  },
  {
   "attachments": {},
   "cell_type": "markdown",
   "metadata": {},
   "source": [
    "## Howso Engine infers the feature attributes\n",
    "\n",
    "We set all nominals to non_sensitive for demonstration purposes. In actual usage, these should be specified as sensitive or non_sensitive as appropriate."
   ]
  },
  {
   "cell_type": "code",
   "execution_count": 3,
   "metadata": {},
   "outputs": [
    {
     "name": "stdout",
     "output_type": "stream",
     "text": [
      "{ 'BV': { 'bounds': {'max': 2.718281828459045, 'min': 0.36787944117144233},\n",
      "          'decimal_places': 3,\n",
      "          'original_type': {'data_type': 'numeric', 'size': 8},\n",
      "          'type': 'continuous'},\n",
      "  'G': { 'bounds': {'max': 1.0, 'min': -0.1353352832366127},\n",
      "         'decimal_places': 2,\n",
      "         'original_type': {'data_type': 'numeric', 'size': 8},\n",
      "         'type': 'continuous'},\n",
      "  'GM': { 'bounds': {'max': 148.4131591025766, 'min': 0.00033546262790251185},\n",
      "          'decimal_places': 6,\n",
      "          'original_type': {'data_type': 'numeric', 'size': 8},\n",
      "          'type': 'continuous'},\n",
      "  'H': { 'bounds': {'max': 54.598150033144236, 'min': 2.718281828459045},\n",
      "         'decimal_places': 2,\n",
      "         'original_type': {'data_type': 'numeric', 'size': 8},\n",
      "         'type': 'continuous'},\n",
      "  'IR': { 'original_type': {'data_type': 'numeric', 'size': 8},\n",
      "          'type': 'continuous'},\n",
      "  'UB': { 'bounds': {'max': 1.0, 'min': 0.049787068367863944},\n",
      "          'decimal_places': 3,\n",
      "          'original_type': {'data_type': 'numeric', 'size': 8},\n",
      "          'type': 'continuous'},\n",
      "  'a': { 'bounds': {'max': 20.085536923187668, 'min': 0.36787944117144233},\n",
      "         'decimal_places': 9,\n",
      "         'original_type': {'data_type': 'numeric', 'size': 8},\n",
      "         'type': 'continuous'},\n",
      "  'ad': { 'bounds': {'max': 20.085536923187668, 'min': 1.0},\n",
      "          'decimal_places': 9,\n",
      "          'original_type': {'data_type': 'numeric', 'size': 8},\n",
      "          'type': 'continuous'},\n",
      "  'albedo': { 'bounds': {'max': 1.0, 'min': 0.006737946999085467},\n",
      "              'decimal_places': 4,\n",
      "              'original_type': {'data_type': 'numeric', 'size': 8},\n",
      "              'type': 'continuous'},\n",
      "  'condition_code': { 'bounds': {'max': 2.718281828459045, 'min': 0.0},\n",
      "                      'decimal_places': 0,\n",
      "                      'original_type': {'data_type': 'numeric', 'size': 8},\n",
      "                      'type': 'continuous'},\n",
      "  'data_arc': { 'bounds': { 'allow_null': False,\n",
      "                            'max': 162754.79141900392,\n",
      "                            'min': 2980.9579870417283},\n",
      "                'decimal_places': 0,\n",
      "                'original_type': {'data_type': 'integer', 'size': 8},\n",
      "                'type': 'continuous'},\n",
      "  'diameter': { 'non_sensitive': True,\n",
      "                'original_type': {'data_type': 'string'},\n",
      "                'type': 'nominal'},\n",
      "  'e': { 'bounds': {'max': 1.0, 'min': 0.0024787521766663585},\n",
      "         'decimal_places': 9,\n",
      "         'original_type': {'data_type': 'numeric', 'size': 8},\n",
      "         'type': 'continuous'},\n",
      "  'extent': { 'non_sensitive': True,\n",
      "              'original_type': {'data_type': 'string'},\n",
      "              'type': 'nominal'},\n",
      "  'full_name': { 'non_sensitive': True,\n",
      "                 'original_type': {'data_type': 'string'},\n",
      "                 'type': 'nominal'},\n",
      "  'i': { 'bounds': {'max': 148.4131591025766, 'min': 0.049787068367863944},\n",
      "         'decimal_places': 9,\n",
      "         'original_type': {'data_type': 'numeric', 'size': 8},\n",
      "         'type': 'continuous'},\n",
      "  'moid': { 'bounds': {'max': 20.085536923187668, 'min': 0.0024787521766663585},\n",
      "            'decimal_places': 7,\n",
      "            'original_type': {'data_type': 'numeric', 'size': 8},\n",
      "            'type': 'continuous'},\n",
      "  'n_obs_used': { 'bounds': { 'allow_null': False,\n",
      "                              'max': 22026.465794806718,\n",
      "                              'min': 20.085536923187668},\n",
      "                  'decimal_places': 0,\n",
      "                  'original_type': {'data_type': 'integer', 'size': 8},\n",
      "                  'type': 'continuous'},\n",
      "  'neo': { 'non_sensitive': True,\n",
      "           'original_type': {'data_type': 'string'},\n",
      "           'type': 'nominal'},\n",
      "  'om': { 'bounds': {'max': 403.4287934927351, 'min': 0.00033546262790251185},\n",
      "          'decimal_places': 9,\n",
      "          'original_type': {'data_type': 'numeric', 'size': 8},\n",
      "          'type': 'continuous'},\n",
      "  'per_y': { 'bounds': {'max': 54.598150033144236, 'min': 0.36787944117144233},\n",
      "             'decimal_places': 9,\n",
      "             'original_type': {'data_type': 'numeric', 'size': 8},\n",
      "             'type': 'continuous'},\n",
      "  'pha': { 'non_sensitive': True,\n",
      "           'original_type': {'data_type': 'string'},\n",
      "           'type': 'nominal'},\n",
      "  'q': { 'bounds': {'max': 20.085536923187668, 'min': 0.1353352832366127},\n",
      "         'decimal_places': 9,\n",
      "         'original_type': {'data_type': 'numeric', 'size': 8},\n",
      "         'type': 'continuous'},\n",
      "  'rot_per': { 'bounds': {'max': 2980.9579870417283, 'min': 1.0},\n",
      "               'decimal_places': 6,\n",
      "               'original_type': {'data_type': 'numeric', 'size': 8},\n",
      "               'type': 'continuous'},\n",
      "  'spec_B': { 'non_sensitive': True,\n",
      "              'original_type': {'data_type': 'string'},\n",
      "              'type': 'nominal'},\n",
      "  'spec_T': { 'non_sensitive': True,\n",
      "              'original_type': {'data_type': 'string'},\n",
      "              'type': 'nominal'},\n",
      "  'w': { 'bounds': {'max': 403.4287934927351, 'min': 0.006737946999085467},\n",
      "         'decimal_places': 9,\n",
      "         'original_type': {'data_type': 'numeric', 'size': 8},\n",
      "         'type': 'continuous'}}\n"
     ]
    }
   ],
   "source": [
    "features = infer_feature_attributes(df)\n",
    "for f_name, f_value in features.items():\n",
    "    if f_value['type'] in [\"nominal\", \"ordinal\"]:\n",
    "        f_value['non_sensitive'] = True\n",
    "\n",
    "pprint(features, indent=2)"
   ]
  },
  {
   "attachments": {},
   "cell_type": "markdown",
   "metadata": {},
   "source": [
    "# Step 2: Create and Train a Trainee\n",
    "\n",
    "The Trainee interface makes training, analyzing, and reacting easy and fast."
   ]
  },
  {
   "cell_type": "code",
   "execution_count": 4,
   "metadata": {},
   "outputs": [],
   "source": [
    "action_feature = ['moid']\n",
    "context_features = features.get_names(without=['moid'])\n",
    "\n",
    "trainee = Trainee(name='Engine - Interpretable Predictions Recipe', features=features, overwrite_existing=True)\n",
    "\n",
    "trainee.train(df)\n",
    "\n",
    "# analyze the model\n",
    "trainee.analyze()"
   ]
  },
  {
   "attachments": {},
   "cell_type": "markdown",
   "metadata": {},
   "source": [
    "# Step 3: React\n",
    "\n",
    "## First, we'll select one case to react to for demonstration purposes. \n",
    "\n",
    "This case is selected from the cases which were **_not_** trained, so the model does not know about this case in particular."
   ]
  },
  {
   "cell_type": "code",
   "execution_count": 5,
   "metadata": {},
   "outputs": [],
   "source": [
    "predict_index = 200001\n",
    "\n",
    "df_full = df_full.astype(object)\n",
    "df_full = df_full.where(df_full.notnull(), None) # convert NaN to None\n",
    "case = df_full[predict_index:predict_index+1].iloc[0]  # grab a case that wasn't trained\n",
    "context_values = case.iloc[0:26].tolist()\n",
    "action_value = case.iloc[26]"
   ]
  },
  {
   "cell_type": "code",
   "execution_count": 6,
   "metadata": {},
   "outputs": [
    {
     "data": {
      "text/html": [
       "<div>\n",
       "<style scoped>\n",
       "    .dataframe tbody tr th:only-of-type {\n",
       "        vertical-align: middle;\n",
       "    }\n",
       "\n",
       "    .dataframe tbody tr th {\n",
       "        vertical-align: top;\n",
       "    }\n",
       "\n",
       "    .dataframe thead th {\n",
       "        text-align: right;\n",
       "    }\n",
       "</style>\n",
       "<table border=\"1\" class=\"dataframe\">\n",
       "  <thead>\n",
       "    <tr style=\"text-align: right;\">\n",
       "      <th></th>\n",
       "      <th>full_name</th>\n",
       "      <th>a</th>\n",
       "      <th>e</th>\n",
       "      <th>G</th>\n",
       "      <th>i</th>\n",
       "      <th>om</th>\n",
       "      <th>w</th>\n",
       "      <th>q</th>\n",
       "      <th>ad</th>\n",
       "      <th>per_y</th>\n",
       "      <th>...</th>\n",
       "      <th>rot_per</th>\n",
       "      <th>GM</th>\n",
       "      <th>BV</th>\n",
       "      <th>UB</th>\n",
       "      <th>IR</th>\n",
       "      <th>spec_B</th>\n",
       "      <th>spec_T</th>\n",
       "      <th>neo</th>\n",
       "      <th>pha</th>\n",
       "      <th>moid</th>\n",
       "    </tr>\n",
       "  </thead>\n",
       "  <tbody>\n",
       "    <tr>\n",
       "      <th>200001</th>\n",
       "      <td>200002 Hehe (2007 JZ43)</td>\n",
       "      <td>2.409757</td>\n",
       "      <td>0.158912</td>\n",
       "      <td>None</td>\n",
       "      <td>6.959368</td>\n",
       "      <td>116.592076</td>\n",
       "      <td>198.714295</td>\n",
       "      <td>2.026818</td>\n",
       "      <td>2.792696</td>\n",
       "      <td>3.740831</td>\n",
       "      <td>...</td>\n",
       "      <td>None</td>\n",
       "      <td>None</td>\n",
       "      <td>None</td>\n",
       "      <td>None</td>\n",
       "      <td>None</td>\n",
       "      <td>None</td>\n",
       "      <td>None</td>\n",
       "      <td>N</td>\n",
       "      <td>N</td>\n",
       "      <td>1.01338</td>\n",
       "    </tr>\n",
       "  </tbody>\n",
       "</table>\n",
       "<p>1 rows × 27 columns</p>\n",
       "</div>"
      ],
      "text/plain": [
       "                      full_name         a         e     G         i  \\\n",
       "200001  200002 Hehe (2007 JZ43)  2.409757  0.158912  None  6.959368   \n",
       "\n",
       "                om           w         q        ad     per_y  ... rot_per  \\\n",
       "200001  116.592076  198.714295  2.026818  2.792696  3.740831  ...    None   \n",
       "\n",
       "          GM    BV    UB    IR spec_B spec_T neo pha     moid  \n",
       "200001  None  None  None  None   None   None   N   N  1.01338  \n",
       "\n",
       "[1 rows x 27 columns]"
      ]
     },
     "execution_count": 6,
     "metadata": {},
     "output_type": "execute_result"
    }
   ],
   "source": [
    "df_full[predict_index:predict_index+1]"
   ]
  },
  {
   "attachments": {},
   "cell_type": "markdown",
   "metadata": {},
   "source": [
    "## Next, we react.\n",
    "\n",
    "When we call react, we include a request for certain **details**. Namely, **influential cases**. This will retrieve all of the cases which influenced the prediction and return them in addition to the prediction itself. These can be used to interpret the prediction."
   ]
  },
  {
   "cell_type": "code",
   "execution_count": 7,
   "metadata": {
    "tags": []
   },
   "outputs": [
    {
     "name": "stdout",
     "output_type": "stream",
     "text": [
      "Predicted action feature:\n"
     ]
    },
    {
     "data": {
      "text/html": [
       "<div>\n",
       "<style scoped>\n",
       "    .dataframe tbody tr th:only-of-type {\n",
       "        vertical-align: middle;\n",
       "    }\n",
       "\n",
       "    .dataframe tbody tr th {\n",
       "        vertical-align: top;\n",
       "    }\n",
       "\n",
       "    .dataframe thead th {\n",
       "        text-align: right;\n",
       "    }\n",
       "</style>\n",
       "<table border=\"1\" class=\"dataframe\">\n",
       "  <thead>\n",
       "    <tr style=\"text-align: right;\">\n",
       "      <th></th>\n",
       "      <th>moid</th>\n",
       "    </tr>\n",
       "  </thead>\n",
       "  <tbody>\n",
       "    <tr>\n",
       "      <th>0</th>\n",
       "      <td>1.021659</td>\n",
       "    </tr>\n",
       "  </tbody>\n",
       "</table>\n",
       "</div>"
      ],
      "text/plain": [
       "       moid\n",
       "0  1.021659"
      ]
     },
     "metadata": {},
     "output_type": "display_data"
    },
    {
     "name": "stdout",
     "output_type": "stream",
     "text": [
      "Computed explanation: \n"
     ]
    },
    {
     "data": {
      "text/plain": [
       "{'context_values': [['200002 Hehe (2007 JZ43)',\n",
       "   2.409756829,\n",
       "   0.158911829,\n",
       "   None,\n",
       "   6.959367932,\n",
       "   116.5920755,\n",
       "   198.7142948,\n",
       "   2.026817963,\n",
       "   2.792695694,\n",
       "   3.740830511,\n",
       "   6472,\n",
       "   0,\n",
       "   226,\n",
       "   16.7,\n",
       "   None,\n",
       "   None,\n",
       "   None,\n",
       "   None,\n",
       "   None,\n",
       "   None,\n",
       "   None,\n",
       "   None,\n",
       "   None,\n",
       "   None,\n",
       "   'N',\n",
       "   'N']],\n",
       " 'influential_cases': [[{'diameter': None,\n",
       "    'spec_B': None,\n",
       "    'a': 2.420304108,\n",
       "    '.session': '95c6a0a9-acb2-42f4-98d9-38563eca319f',\n",
       "    'rot_per': None,\n",
       "    'om': 304.9144217,\n",
       "    'pha': 'N',\n",
       "    'n_obs_used': 1456,\n",
       "    'UB': None,\n",
       "    'ad': 2.757637693,\n",
       "    'extent': None,\n",
       "    'e': 0.139376529,\n",
       "    'spec_T': None,\n",
       "    'data_arc': 14915,\n",
       "    'i': 5.980839309,\n",
       "    'GM': None,\n",
       "    'w': 118.4656864,\n",
       "    'moid': 1.10398,\n",
       "    'H': 13.8,\n",
       "    'full_name': '  3135 Lauer (1981 EC9)',\n",
       "    'IR': None,\n",
       "    'per_y': 3.765417261,\n",
       "    '.influence_weight': 0.20231076743110796,\n",
       "    'albedo': None,\n",
       "    'G': None,\n",
       "    'neo': 'N',\n",
       "    'condition_code': 0,\n",
       "    '.session_training_index': 3134,\n",
       "    'BV': None,\n",
       "    'q': 2.082970523},\n",
       "   {'diameter': None,\n",
       "    'spec_B': None,\n",
       "    'a': 2.435992689,\n",
       "    '.session': '95c6a0a9-acb2-42f4-98d9-38563eca319f',\n",
       "    'rot_per': None,\n",
       "    'om': 32.53274938,\n",
       "    'pha': 'N',\n",
       "    'n_obs_used': 1374,\n",
       "    'UB': None,\n",
       "    'ad': 2.813212249,\n",
       "    'extent': None,\n",
       "    'e': 0.154852501,\n",
       "    'spec_T': None,\n",
       "    'data_arc': 23750,\n",
       "    'i': 2.82800126,\n",
       "    'GM': None,\n",
       "    'w': 52.20939042,\n",
       "    'moid': 1.07626,\n",
       "    'H': 14.2,\n",
       "    'full_name': '  4549 Burkhardt (1276 T-2)',\n",
       "    'IR': None,\n",
       "    'per_y': 3.802088076,\n",
       "    '.influence_weight': 0.2011835418138165,\n",
       "    'albedo': None,\n",
       "    'G': None,\n",
       "    'neo': 'N',\n",
       "    'condition_code': 0,\n",
       "    '.session_training_index': 4548,\n",
       "    'BV': None,\n",
       "    'q': 2.05877313},\n",
       "   {'diameter': None,\n",
       "    'spec_B': None,\n",
       "    'a': 2.39908342,\n",
       "    '.session': '95c6a0a9-acb2-42f4-98d9-38563eca319f',\n",
       "    'rot_per': None,\n",
       "    'om': 111.4133909,\n",
       "    'pha': 'N',\n",
       "    'n_obs_used': 2229,\n",
       "    'UB': None,\n",
       "    'ad': 2.766952921,\n",
       "    'extent': None,\n",
       "    'e': 0.15333752,\n",
       "    'spec_T': None,\n",
       "    'data_arc': 15040,\n",
       "    'i': 2.213643473,\n",
       "    'GM': None,\n",
       "    'w': 139.8868548,\n",
       "    'moid': 1.01725,\n",
       "    'H': 13.8,\n",
       "    'full_name': '  4579 Puccini (1989 AT6)',\n",
       "    'IR': None,\n",
       "    'per_y': 3.716004457,\n",
       "    '.influence_weight': 0.19962620905130266,\n",
       "    'albedo': None,\n",
       "    'G': None,\n",
       "    'neo': 'N',\n",
       "    'condition_code': 0,\n",
       "    '.session_training_index': 4578,\n",
       "    'BV': None,\n",
       "    'q': 2.031213919},\n",
       "   {'diameter': None,\n",
       "    'spec_B': None,\n",
       "    'a': 2.384603404,\n",
       "    '.session': '95c6a0a9-acb2-42f4-98d9-38563eca319f',\n",
       "    'rot_per': None,\n",
       "    'om': 94.7967901,\n",
       "    'pha': 'N',\n",
       "    'n_obs_used': 1897,\n",
       "    'UB': None,\n",
       "    'ad': 2.841253595,\n",
       "    'extent': None,\n",
       "    'e': 0.191499429,\n",
       "    'spec_T': None,\n",
       "    'data_arc': 14653,\n",
       "    'i': 3.369927304,\n",
       "    'GM': None,\n",
       "    'w': 345.2767183,\n",
       "    'moid': 0.943815,\n",
       "    'H': 14,\n",
       "    'full_name': '  4476 Bernstein (1983 DE)',\n",
       "    'IR': None,\n",
       "    'per_y': 3.682412547,\n",
       "    '.influence_weight': 0.1990868760161341,\n",
       "    'albedo': None,\n",
       "    'G': None,\n",
       "    'neo': 'N',\n",
       "    'condition_code': 0,\n",
       "    '.session_training_index': 4475,\n",
       "    'BV': None,\n",
       "    'q': 1.927953213},\n",
       "   {'diameter': None,\n",
       "    'spec_B': None,\n",
       "    'a': 2.41129307,\n",
       "    '.session': '95c6a0a9-acb2-42f4-98d9-38563eca319f',\n",
       "    'rot_per': None,\n",
       "    'om': 43.78298038,\n",
       "    'pha': 'N',\n",
       "    'n_obs_used': 1695,\n",
       "    'UB': None,\n",
       "    'ad': 2.853349983,\n",
       "    'extent': None,\n",
       "    'e': 0.183327742,\n",
       "    'spec_T': None,\n",
       "    'data_arc': 24446,\n",
       "    'i': 5.286151726,\n",
       "    'GM': None,\n",
       "    'w': 279.5198666,\n",
       "    'moid': 0.964725,\n",
       "    'H': 13.7,\n",
       "    'full_name': '  3081 Martinuboh (1971 UP)',\n",
       "    'IR': None,\n",
       "    'per_y': 3.7444083,\n",
       "    '.influence_weight': 0.1977926056876388,\n",
       "    'albedo': None,\n",
       "    'G': None,\n",
       "    'neo': 'N',\n",
       "    'condition_code': 0,\n",
       "    '.session_training_index': 3080,\n",
       "    'BV': None,\n",
       "    'q': 1.969236157}]],\n",
       " 'action_features': ['moid']}"
      ]
     },
     "metadata": {},
     "output_type": "display_data"
    }
   ],
   "source": [
    "react = trainee.react(context_features=context_features,\n",
    "                      action_features=action_feature,\n",
    "                      contexts=[context_values],\n",
    "                      details = {\n",
    "                          'influential_cases': True\n",
    "                      })\n",
    "\n",
    "print('Predicted action feature:')\n",
    "display(react['action'])\n",
    "\n",
    "print('Computed explanation: ')\n",
    "display(react['explanation'])"
   ]
  },
  {
   "attachments": {},
   "cell_type": "markdown",
   "metadata": {},
   "source": [
    "## The predicted case and the influential cases can be viewed side-by-side."
   ]
  },
  {
   "cell_type": "code",
   "execution_count": 8,
   "metadata": {},
   "outputs": [
    {
     "data": {
      "text/html": [
       "<div>\n",
       "<style scoped>\n",
       "    .dataframe tbody tr th:only-of-type {\n",
       "        vertical-align: middle;\n",
       "    }\n",
       "\n",
       "    .dataframe tbody tr th {\n",
       "        vertical-align: top;\n",
       "    }\n",
       "\n",
       "    .dataframe thead th {\n",
       "        text-align: right;\n",
       "    }\n",
       "</style>\n",
       "<table border=\"1\" class=\"dataframe\">\n",
       "  <thead>\n",
       "    <tr style=\"text-align: right;\">\n",
       "      <th></th>\n",
       "      <th>full_name</th>\n",
       "      <th>a</th>\n",
       "      <th>e</th>\n",
       "      <th>G</th>\n",
       "      <th>i</th>\n",
       "      <th>om</th>\n",
       "      <th>w</th>\n",
       "      <th>q</th>\n",
       "      <th>ad</th>\n",
       "      <th>per_y</th>\n",
       "      <th>data_arc</th>\n",
       "      <th>condition_code</th>\n",
       "      <th>n_obs_used</th>\n",
       "      <th>H</th>\n",
       "      <th>diameter</th>\n",
       "      <th>extent</th>\n",
       "      <th>albedo</th>\n",
       "      <th>rot_per</th>\n",
       "      <th>GM</th>\n",
       "      <th>BV</th>\n",
       "      <th>UB</th>\n",
       "      <th>IR</th>\n",
       "      <th>spec_B</th>\n",
       "      <th>spec_T</th>\n",
       "      <th>neo</th>\n",
       "      <th>pha</th>\n",
       "      <th>moid</th>\n",
       "    </tr>\n",
       "  </thead>\n",
       "  <tbody>\n",
       "    <tr>\n",
       "      <th>200001</th>\n",
       "      <td>200002 Hehe (2007 JZ43)</td>\n",
       "      <td>2.409757</td>\n",
       "      <td>0.158912</td>\n",
       "      <td>None</td>\n",
       "      <td>6.959368</td>\n",
       "      <td>116.592076</td>\n",
       "      <td>198.714295</td>\n",
       "      <td>2.026818</td>\n",
       "      <td>2.792696</td>\n",
       "      <td>3.740831</td>\n",
       "      <td>6472</td>\n",
       "      <td>0.0</td>\n",
       "      <td>226</td>\n",
       "      <td>16.7</td>\n",
       "      <td>None</td>\n",
       "      <td>None</td>\n",
       "      <td>None</td>\n",
       "      <td>None</td>\n",
       "      <td>None</td>\n",
       "      <td>None</td>\n",
       "      <td>None</td>\n",
       "      <td>None</td>\n",
       "      <td>None</td>\n",
       "      <td>None</td>\n",
       "      <td>N</td>\n",
       "      <td>N</td>\n",
       "      <td>1.01338</td>\n",
       "    </tr>\n",
       "  </tbody>\n",
       "</table>\n",
       "</div>"
      ],
      "text/plain": [
       "                      full_name         a         e     G         i  \\\n",
       "200001  200002 Hehe (2007 JZ43)  2.409757  0.158912  None  6.959368   \n",
       "\n",
       "                om           w         q        ad     per_y data_arc  \\\n",
       "200001  116.592076  198.714295  2.026818  2.792696  3.740831     6472   \n",
       "\n",
       "       condition_code n_obs_used     H diameter extent albedo rot_per    GM  \\\n",
       "200001            0.0        226  16.7     None   None   None    None  None   \n",
       "\n",
       "          BV    UB    IR spec_B spec_T neo pha     moid  \n",
       "200001  None  None  None   None   None   N   N  1.01338  "
      ]
     },
     "metadata": {},
     "output_type": "display_data"
    },
    {
     "data": {
      "text/html": [
       "<div>\n",
       "<style scoped>\n",
       "    .dataframe tbody tr th:only-of-type {\n",
       "        vertical-align: middle;\n",
       "    }\n",
       "\n",
       "    .dataframe tbody tr th {\n",
       "        vertical-align: top;\n",
       "    }\n",
       "\n",
       "    .dataframe thead th {\n",
       "        text-align: right;\n",
       "    }\n",
       "</style>\n",
       "<table border=\"1\" class=\"dataframe\">\n",
       "  <thead>\n",
       "    <tr style=\"text-align: right;\">\n",
       "      <th></th>\n",
       "      <th>full_name</th>\n",
       "      <th>a</th>\n",
       "      <th>e</th>\n",
       "      <th>G</th>\n",
       "      <th>i</th>\n",
       "      <th>om</th>\n",
       "      <th>w</th>\n",
       "      <th>q</th>\n",
       "      <th>ad</th>\n",
       "      <th>per_y</th>\n",
       "      <th>data_arc</th>\n",
       "      <th>condition_code</th>\n",
       "      <th>n_obs_used</th>\n",
       "      <th>H</th>\n",
       "      <th>diameter</th>\n",
       "      <th>extent</th>\n",
       "      <th>albedo</th>\n",
       "      <th>rot_per</th>\n",
       "      <th>GM</th>\n",
       "      <th>BV</th>\n",
       "      <th>UB</th>\n",
       "      <th>IR</th>\n",
       "      <th>spec_B</th>\n",
       "      <th>spec_T</th>\n",
       "      <th>neo</th>\n",
       "      <th>pha</th>\n",
       "      <th>moid</th>\n",
       "    </tr>\n",
       "  </thead>\n",
       "  <tbody>\n",
       "    <tr>\n",
       "      <th>0</th>\n",
       "      <td>3135 Lauer (1981 EC9)</td>\n",
       "      <td>2.420304</td>\n",
       "      <td>0.139377</td>\n",
       "      <td>None</td>\n",
       "      <td>5.980839</td>\n",
       "      <td>304.914422</td>\n",
       "      <td>118.465686</td>\n",
       "      <td>2.082971</td>\n",
       "      <td>2.757638</td>\n",
       "      <td>3.765417</td>\n",
       "      <td>14915</td>\n",
       "      <td>0</td>\n",
       "      <td>1456</td>\n",
       "      <td>13.8</td>\n",
       "      <td>None</td>\n",
       "      <td>None</td>\n",
       "      <td>None</td>\n",
       "      <td>None</td>\n",
       "      <td>None</td>\n",
       "      <td>None</td>\n",
       "      <td>None</td>\n",
       "      <td>None</td>\n",
       "      <td>None</td>\n",
       "      <td>None</td>\n",
       "      <td>N</td>\n",
       "      <td>N</td>\n",
       "      <td>1.103980</td>\n",
       "    </tr>\n",
       "    <tr>\n",
       "      <th>1</th>\n",
       "      <td>4549 Burkhardt (1276 T-2)</td>\n",
       "      <td>2.435993</td>\n",
       "      <td>0.154853</td>\n",
       "      <td>None</td>\n",
       "      <td>2.828001</td>\n",
       "      <td>32.532749</td>\n",
       "      <td>52.209390</td>\n",
       "      <td>2.058773</td>\n",
       "      <td>2.813212</td>\n",
       "      <td>3.802088</td>\n",
       "      <td>23750</td>\n",
       "      <td>0</td>\n",
       "      <td>1374</td>\n",
       "      <td>14.2</td>\n",
       "      <td>None</td>\n",
       "      <td>None</td>\n",
       "      <td>None</td>\n",
       "      <td>None</td>\n",
       "      <td>None</td>\n",
       "      <td>None</td>\n",
       "      <td>None</td>\n",
       "      <td>None</td>\n",
       "      <td>None</td>\n",
       "      <td>None</td>\n",
       "      <td>N</td>\n",
       "      <td>N</td>\n",
       "      <td>1.076260</td>\n",
       "    </tr>\n",
       "    <tr>\n",
       "      <th>2</th>\n",
       "      <td>4579 Puccini (1989 AT6)</td>\n",
       "      <td>2.399083</td>\n",
       "      <td>0.153338</td>\n",
       "      <td>None</td>\n",
       "      <td>2.213643</td>\n",
       "      <td>111.413391</td>\n",
       "      <td>139.886855</td>\n",
       "      <td>2.031214</td>\n",
       "      <td>2.766953</td>\n",
       "      <td>3.716004</td>\n",
       "      <td>15040</td>\n",
       "      <td>0</td>\n",
       "      <td>2229</td>\n",
       "      <td>13.8</td>\n",
       "      <td>None</td>\n",
       "      <td>None</td>\n",
       "      <td>None</td>\n",
       "      <td>None</td>\n",
       "      <td>None</td>\n",
       "      <td>None</td>\n",
       "      <td>None</td>\n",
       "      <td>None</td>\n",
       "      <td>None</td>\n",
       "      <td>None</td>\n",
       "      <td>N</td>\n",
       "      <td>N</td>\n",
       "      <td>1.017250</td>\n",
       "    </tr>\n",
       "    <tr>\n",
       "      <th>3</th>\n",
       "      <td>4476 Bernstein (1983 DE)</td>\n",
       "      <td>2.384603</td>\n",
       "      <td>0.191499</td>\n",
       "      <td>None</td>\n",
       "      <td>3.369927</td>\n",
       "      <td>94.796790</td>\n",
       "      <td>345.276718</td>\n",
       "      <td>1.927953</td>\n",
       "      <td>2.841254</td>\n",
       "      <td>3.682413</td>\n",
       "      <td>14653</td>\n",
       "      <td>0</td>\n",
       "      <td>1897</td>\n",
       "      <td>14.0</td>\n",
       "      <td>None</td>\n",
       "      <td>None</td>\n",
       "      <td>None</td>\n",
       "      <td>None</td>\n",
       "      <td>None</td>\n",
       "      <td>None</td>\n",
       "      <td>None</td>\n",
       "      <td>None</td>\n",
       "      <td>None</td>\n",
       "      <td>None</td>\n",
       "      <td>N</td>\n",
       "      <td>N</td>\n",
       "      <td>0.943815</td>\n",
       "    </tr>\n",
       "    <tr>\n",
       "      <th>4</th>\n",
       "      <td>3081 Martinuboh (1971 UP)</td>\n",
       "      <td>2.411293</td>\n",
       "      <td>0.183328</td>\n",
       "      <td>None</td>\n",
       "      <td>5.286152</td>\n",
       "      <td>43.782980</td>\n",
       "      <td>279.519867</td>\n",
       "      <td>1.969236</td>\n",
       "      <td>2.853350</td>\n",
       "      <td>3.744408</td>\n",
       "      <td>24446</td>\n",
       "      <td>0</td>\n",
       "      <td>1695</td>\n",
       "      <td>13.7</td>\n",
       "      <td>None</td>\n",
       "      <td>None</td>\n",
       "      <td>None</td>\n",
       "      <td>None</td>\n",
       "      <td>None</td>\n",
       "      <td>None</td>\n",
       "      <td>None</td>\n",
       "      <td>None</td>\n",
       "      <td>None</td>\n",
       "      <td>None</td>\n",
       "      <td>N</td>\n",
       "      <td>N</td>\n",
       "      <td>0.964725</td>\n",
       "    </tr>\n",
       "  </tbody>\n",
       "</table>\n",
       "</div>"
      ],
      "text/plain": [
       "                     full_name         a         e     G         i  \\\n",
       "0        3135 Lauer (1981 EC9)  2.420304  0.139377  None  5.980839   \n",
       "1    4549 Burkhardt (1276 T-2)  2.435993  0.154853  None  2.828001   \n",
       "2      4579 Puccini (1989 AT6)  2.399083  0.153338  None  2.213643   \n",
       "3     4476 Bernstein (1983 DE)  2.384603  0.191499  None  3.369927   \n",
       "4    3081 Martinuboh (1971 UP)  2.411293  0.183328  None  5.286152   \n",
       "\n",
       "           om           w         q        ad     per_y  data_arc  \\\n",
       "0  304.914422  118.465686  2.082971  2.757638  3.765417     14915   \n",
       "1   32.532749   52.209390  2.058773  2.813212  3.802088     23750   \n",
       "2  111.413391  139.886855  2.031214  2.766953  3.716004     15040   \n",
       "3   94.796790  345.276718  1.927953  2.841254  3.682413     14653   \n",
       "4   43.782980  279.519867  1.969236  2.853350  3.744408     24446   \n",
       "\n",
       "   condition_code  n_obs_used     H diameter extent albedo rot_per    GM  \\\n",
       "0               0        1456  13.8     None   None   None    None  None   \n",
       "1               0        1374  14.2     None   None   None    None  None   \n",
       "2               0        2229  13.8     None   None   None    None  None   \n",
       "3               0        1897  14.0     None   None   None    None  None   \n",
       "4               0        1695  13.7     None   None   None    None  None   \n",
       "\n",
       "     BV    UB    IR spec_B spec_T neo pha      moid  \n",
       "0  None  None  None   None   None   N   N  1.103980  \n",
       "1  None  None  None   None   None   N   N  1.076260  \n",
       "2  None  None  None   None   None   N   N  1.017250  \n",
       "3  None  None  None   None   None   N   N  0.943815  \n",
       "4  None  None  None   None   None   N   N  0.964725  "
      ]
     },
     "metadata": {},
     "output_type": "display_data"
    }
   ],
   "source": [
    "pd.options.display.max_columns = None #show all features\n",
    "\n",
    "most_similar_df = pd.DataFrame(react['explanation']['influential_cases'][0])\n",
    "most_similar_df = most_similar_df.drop(['.session_training_index', '.session'], axis=1)\n",
    "\n",
    "display(df_full.iloc[predict_index:predict_index+1])\n",
    "display(most_similar_df[header])"
   ]
  },
  {
   "cell_type": "code",
   "execution_count": 9,
   "metadata": {},
   "outputs": [],
   "source": [
    "r_val = react['action'].loc[0, 'moid']\n",
    "inf_cases = react['explanation']['influential_cases'][0]"
   ]
  },
  {
   "attachments": {},
   "cell_type": "markdown",
   "metadata": {},
   "source": [
    "# Step 4: Intepret\n",
    "\n",
    "## We react several more times to determine a range of possible predicted values.\n",
    "\n",
    "These will be used to visualize the distribution of the predicted feature compared to the held-out case, the predicted case, and the influential cases. This visualization is one of many techniques which could be used to interpret the results."
   ]
  },
  {
   "cell_type": "code",
   "execution_count": 10,
   "metadata": {},
   "outputs": [],
   "source": [
    "gen_reacts = list()\n",
    "for i in range(0,100):\n",
    "    result =  trainee.react(context_features=context_features,\n",
    "                            action_features=action_feature,\n",
    "                            contexts=[context_values],\n",
    "                            desired_conviction = 5000)\n",
    "    gen_reacts.append(result['action'].loc[0, 'moid'])\n",
    "\n",
    "trainee.react_into_trainee(residuals=True)\n",
    "global_residual = trainee.get_prediction_stats(stats=['mae'])['moid'][0]"
   ]
  },
  {
   "cell_type": "code",
   "execution_count": 11,
   "metadata": {},
   "outputs": [
    {
     "data": {
      "application/vnd.plotly.v1+json": {
       "config": {
        "plotlyServerURL": "https://plot.ly"
       },
       "data": [
        {
         "fill": "tonexty",
         "hoverinfo": "skip",
         "mode": "lines",
         "name": "Distribution",
         "type": "scatter",
         "x": [
          0.5662835399999999,
          0.5761757357575756,
          0.5860679315151515,
          0.5959601272727272,
          0.6058523230303029,
          0.6157445187878787,
          0.6256367145454544,
          0.6355289103030302,
          0.645421106060606,
          0.6553133018181817,
          0.6652054975757575,
          0.6750976933333332,
          0.684989889090909,
          0.6948820848484848,
          0.7047742806060605,
          0.7146664763636363,
          0.724558672121212,
          0.7344508678787878,
          0.7443430636363635,
          0.7542352593939393,
          0.764127455151515,
          0.7740196509090909,
          0.7839118466666666,
          0.7938040424242423,
          0.803696238181818,
          0.8135884339393938,
          0.8234806296969697,
          0.8333728254545454,
          0.8432650212121211,
          0.8531572169696968,
          0.8630494127272726,
          0.8729416084848484,
          0.8828338042424242,
          0.8927259999999999,
          0.9026181957575756,
          0.9125103915151513,
          0.9224025872727272,
          0.932294783030303,
          0.9421869787878787,
          0.9520791745454544,
          0.9619713703030301,
          0.9718635660606059,
          0.9817557618181817,
          0.9916479575757575,
          1.0015401533333332,
          1.011432349090909,
          1.0213245448484847,
          1.0312167406060606,
          1.0411089363636363,
          1.051001132121212,
          1.0608933278787878,
          1.0707855236363635,
          1.0806777193939392,
          1.090569915151515,
          1.1004621109090906,
          1.1103543066666666,
          1.1202465024242423,
          1.130138698181818,
          1.140030893939394,
          1.1499230896969697,
          1.1598152854545454,
          1.169707481212121,
          1.1795996769696968,
          1.1894918727272725,
          1.1993840684848482,
          1.209276264242424,
          1.21916846,
          1.2290606557575756,
          1.2389528515151513,
          1.2488450472727273,
          1.258737243030303,
          1.2686294387878787,
          1.2785216345454544,
          1.2884138303030301,
          1.2983060260606059,
          1.3081982218181816,
          1.3180904175757573,
          1.3279826133333332,
          1.337874809090909,
          1.3477670048484847,
          1.3576592006060606,
          1.3675513963636363,
          1.377443592121212,
          1.3873357878787878,
          1.3972279836363635,
          1.4071201793939392,
          1.417012375151515,
          1.4269045709090906,
          1.4367967666666666,
          1.4466889624242423,
          1.456581158181818,
          1.466473353939394,
          1.4763655496969696,
          1.4862577454545454,
          1.496149941212121,
          1.5060421369696968,
          1.5159343327272725,
          1.5258265284848482,
          1.535718724242424,
          1.5456109199999999
         ],
         "y": [
          2.9426333075136062e-53,
          1.6348479024725553e-50,
          7.679725812955961e-48,
          3.050290872460283e-45,
          1.0243868972999853e-42,
          2.9088012622873454e-40,
          6.983794321822367e-38,
          1.4177390465573212e-35,
          2.433485667349211e-33,
          3.5317434515884574e-31,
          4.3338881492992296e-29,
          4.4967103509040996e-27,
          3.9449496631279265e-25,
          2.9262963932407626e-23,
          1.835383471841492e-21,
          9.733497560442328e-20,
          4.36462974704693e-18,
          1.6548789037363333e-16,
          5.3055570632328584e-15,
          1.43830087013135e-13,
          3.297113599822911e-12,
          6.391455540213945e-11,
          1.0477809602544608e-9,
          1.452710481370452e-8,
          1.7036184522287755e-7,
          0.000001690117188399699,
          0.00001418752944390969,
          0.00010080345563116285,
          0.0006064714115751405,
          0.0030915358361529805,
          0.013363883419366491,
          0.04904428654941908,
          0.15304663604400653,
          0.40695490843529514,
          0.9245524726311328,
          1.8007461859426628,
          3.0191694641854103,
          4.378560618692265,
          5.525025300307781,
          6.117022062725844,
          6.0344751683766225,
          5.478421600500468,
          4.861166247997515,
          4.534128722633288,
          4.546051359462036,
          4.638239699642505,
          4.500698209261514,
          4.067227948869662,
          3.5791283613317786,
          3.3728334116338656,
          3.6053162966984105,
          4.1502624878423005,
          4.700972147723989,
          4.949079901030462,
          4.716378976978135,
          4.009655756437959,
          3.0055671434813567,
          1.96537311438156,
          1.111021564793221,
          0.5391258522539248,
          0.22342246885414355,
          0.07879627057387961,
          0.023594592558955567,
          0.005989473234674583,
          0.0012876930697322592,
          0.00023432361964766682,
          0.00003607704196332458,
          0.000004698408605079135,
          5.174984800555206e-7,
          4.8201894569258984e-8,
          3.796555712986006e-9,
          2.528539622501854e-10,
          1.4239471201818675e-11,
          6.780405889006377e-13,
          2.7299284752214568e-14,
          9.293474211307933e-16,
          2.675066753041715e-17,
          6.510582886318793e-19,
          1.339779213448266e-20,
          2.3311720816106503e-22,
          3.429595718065966e-24,
          4.266177019784399e-26,
          4.487062013483097e-28,
          3.990363594098464e-30,
          3.0004751149545566e-32,
          1.9076325670642805e-34,
          1.0254784825348678e-36,
          4.661068573276704e-39,
          1.7913132703631973e-41,
          5.820827128873163e-44,
          1.5992816891721523e-46,
          3.7152866926152115e-49,
          7.297713376846926e-52,
          1.2120160602730386e-54,
          1.701990177151051e-57,
          2.020844170049558e-60,
          2.028783499764177e-63,
          1.7221290153987548e-66,
          1.2360122233083146e-69,
          7.500789001696776e-73
         ]
        },
        {
         "error_x": {
          "array": [
           0.08340450790961595
          ]
         },
         "hovertemplate": "Value: %{x}<br />Influence: N/A",
         "marker": {
          "color": "purple",
          "size": 15
         },
         "mode": "markers",
         "name": "Predicted Value",
         "type": "scatter",
         "x": [
          1.0216593
         ],
         "xaxis": "x",
         "y": [
          0.21242630580266336
         ],
         "yaxis": "y2"
        },
        {
         "hovertemplate": "Value: %{x}<br />Influence: N/A",
         "marker": {
          "color": "orange",
          "size": 15
         },
         "mode": "markers",
         "name": "Actual Value",
         "type": "scatter",
         "x": [
          1.01338
         ],
         "xaxis": "x",
         "y": [
          0.21242630580266336
         ],
         "yaxis": "y2"
        },
        {
         "customdata": [
          "  3135 Lauer (1981 EC9)",
          "  4549 Burkhardt (1276 T-2)",
          "  4579 Puccini (1989 AT6)",
          "  4476 Bernstein (1983 DE)",
          "  3081 Martinuboh (1971 UP)"
         ],
         "hovertemplate": "<b>%{customdata}</b><br />Value: %{x}<br />Influence: %{y}",
         "marker": {
          "color": "green"
         },
         "mode": "markers",
         "name": "Influential Case",
         "type": "scatter",
         "x": [
          1.10398,
          1.07626,
          1.01725,
          0.943815,
          0.964725
         ],
         "xaxis": "x",
         "y": [
          0.20231076743110796,
          0.2011835418138165,
          0.19962620905130266,
          0.1990868760161341,
          0.1977926056876388
         ],
         "yaxis": "y2"
        }
       ],
       "layout": {
        "template": {
         "data": {
          "bar": [
           {
            "error_x": {
             "color": "#2a3f5f"
            },
            "error_y": {
             "color": "#2a3f5f"
            },
            "marker": {
             "line": {
              "color": "#E5ECF6",
              "width": 0.5
             },
             "pattern": {
              "fillmode": "overlay",
              "size": 10,
              "solidity": 0.2
             }
            },
            "type": "bar"
           }
          ],
          "barpolar": [
           {
            "marker": {
             "line": {
              "color": "#E5ECF6",
              "width": 0.5
             },
             "pattern": {
              "fillmode": "overlay",
              "size": 10,
              "solidity": 0.2
             }
            },
            "type": "barpolar"
           }
          ],
          "carpet": [
           {
            "aaxis": {
             "endlinecolor": "#2a3f5f",
             "gridcolor": "white",
             "linecolor": "white",
             "minorgridcolor": "white",
             "startlinecolor": "#2a3f5f"
            },
            "baxis": {
             "endlinecolor": "#2a3f5f",
             "gridcolor": "white",
             "linecolor": "white",
             "minorgridcolor": "white",
             "startlinecolor": "#2a3f5f"
            },
            "type": "carpet"
           }
          ],
          "choropleth": [
           {
            "colorbar": {
             "outlinewidth": 0,
             "ticks": ""
            },
            "type": "choropleth"
           }
          ],
          "contour": [
           {
            "colorbar": {
             "outlinewidth": 0,
             "ticks": ""
            },
            "colorscale": [
             [
              0,
              "#0d0887"
             ],
             [
              0.1111111111111111,
              "#46039f"
             ],
             [
              0.2222222222222222,
              "#7201a8"
             ],
             [
              0.3333333333333333,
              "#9c179e"
             ],
             [
              0.4444444444444444,
              "#bd3786"
             ],
             [
              0.5555555555555556,
              "#d8576b"
             ],
             [
              0.6666666666666666,
              "#ed7953"
             ],
             [
              0.7777777777777778,
              "#fb9f3a"
             ],
             [
              0.8888888888888888,
              "#fdca26"
             ],
             [
              1,
              "#f0f921"
             ]
            ],
            "type": "contour"
           }
          ],
          "contourcarpet": [
           {
            "colorbar": {
             "outlinewidth": 0,
             "ticks": ""
            },
            "type": "contourcarpet"
           }
          ],
          "heatmap": [
           {
            "colorbar": {
             "outlinewidth": 0,
             "ticks": ""
            },
            "colorscale": [
             [
              0,
              "#0d0887"
             ],
             [
              0.1111111111111111,
              "#46039f"
             ],
             [
              0.2222222222222222,
              "#7201a8"
             ],
             [
              0.3333333333333333,
              "#9c179e"
             ],
             [
              0.4444444444444444,
              "#bd3786"
             ],
             [
              0.5555555555555556,
              "#d8576b"
             ],
             [
              0.6666666666666666,
              "#ed7953"
             ],
             [
              0.7777777777777778,
              "#fb9f3a"
             ],
             [
              0.8888888888888888,
              "#fdca26"
             ],
             [
              1,
              "#f0f921"
             ]
            ],
            "type": "heatmap"
           }
          ],
          "heatmapgl": [
           {
            "colorbar": {
             "outlinewidth": 0,
             "ticks": ""
            },
            "colorscale": [
             [
              0,
              "#0d0887"
             ],
             [
              0.1111111111111111,
              "#46039f"
             ],
             [
              0.2222222222222222,
              "#7201a8"
             ],
             [
              0.3333333333333333,
              "#9c179e"
             ],
             [
              0.4444444444444444,
              "#bd3786"
             ],
             [
              0.5555555555555556,
              "#d8576b"
             ],
             [
              0.6666666666666666,
              "#ed7953"
             ],
             [
              0.7777777777777778,
              "#fb9f3a"
             ],
             [
              0.8888888888888888,
              "#fdca26"
             ],
             [
              1,
              "#f0f921"
             ]
            ],
            "type": "heatmapgl"
           }
          ],
          "histogram": [
           {
            "marker": {
             "pattern": {
              "fillmode": "overlay",
              "size": 10,
              "solidity": 0.2
             }
            },
            "type": "histogram"
           }
          ],
          "histogram2d": [
           {
            "colorbar": {
             "outlinewidth": 0,
             "ticks": ""
            },
            "colorscale": [
             [
              0,
              "#0d0887"
             ],
             [
              0.1111111111111111,
              "#46039f"
             ],
             [
              0.2222222222222222,
              "#7201a8"
             ],
             [
              0.3333333333333333,
              "#9c179e"
             ],
             [
              0.4444444444444444,
              "#bd3786"
             ],
             [
              0.5555555555555556,
              "#d8576b"
             ],
             [
              0.6666666666666666,
              "#ed7953"
             ],
             [
              0.7777777777777778,
              "#fb9f3a"
             ],
             [
              0.8888888888888888,
              "#fdca26"
             ],
             [
              1,
              "#f0f921"
             ]
            ],
            "type": "histogram2d"
           }
          ],
          "histogram2dcontour": [
           {
            "colorbar": {
             "outlinewidth": 0,
             "ticks": ""
            },
            "colorscale": [
             [
              0,
              "#0d0887"
             ],
             [
              0.1111111111111111,
              "#46039f"
             ],
             [
              0.2222222222222222,
              "#7201a8"
             ],
             [
              0.3333333333333333,
              "#9c179e"
             ],
             [
              0.4444444444444444,
              "#bd3786"
             ],
             [
              0.5555555555555556,
              "#d8576b"
             ],
             [
              0.6666666666666666,
              "#ed7953"
             ],
             [
              0.7777777777777778,
              "#fb9f3a"
             ],
             [
              0.8888888888888888,
              "#fdca26"
             ],
             [
              1,
              "#f0f921"
             ]
            ],
            "type": "histogram2dcontour"
           }
          ],
          "mesh3d": [
           {
            "colorbar": {
             "outlinewidth": 0,
             "ticks": ""
            },
            "type": "mesh3d"
           }
          ],
          "parcoords": [
           {
            "line": {
             "colorbar": {
              "outlinewidth": 0,
              "ticks": ""
             }
            },
            "type": "parcoords"
           }
          ],
          "pie": [
           {
            "automargin": true,
            "type": "pie"
           }
          ],
          "scatter": [
           {
            "fillpattern": {
             "fillmode": "overlay",
             "size": 10,
             "solidity": 0.2
            },
            "type": "scatter"
           }
          ],
          "scatter3d": [
           {
            "line": {
             "colorbar": {
              "outlinewidth": 0,
              "ticks": ""
             }
            },
            "marker": {
             "colorbar": {
              "outlinewidth": 0,
              "ticks": ""
             }
            },
            "type": "scatter3d"
           }
          ],
          "scattercarpet": [
           {
            "marker": {
             "colorbar": {
              "outlinewidth": 0,
              "ticks": ""
             }
            },
            "type": "scattercarpet"
           }
          ],
          "scattergeo": [
           {
            "marker": {
             "colorbar": {
              "outlinewidth": 0,
              "ticks": ""
             }
            },
            "type": "scattergeo"
           }
          ],
          "scattergl": [
           {
            "marker": {
             "colorbar": {
              "outlinewidth": 0,
              "ticks": ""
             }
            },
            "type": "scattergl"
           }
          ],
          "scattermapbox": [
           {
            "marker": {
             "colorbar": {
              "outlinewidth": 0,
              "ticks": ""
             }
            },
            "type": "scattermapbox"
           }
          ],
          "scatterpolar": [
           {
            "marker": {
             "colorbar": {
              "outlinewidth": 0,
              "ticks": ""
             }
            },
            "type": "scatterpolar"
           }
          ],
          "scatterpolargl": [
           {
            "marker": {
             "colorbar": {
              "outlinewidth": 0,
              "ticks": ""
             }
            },
            "type": "scatterpolargl"
           }
          ],
          "scatterternary": [
           {
            "marker": {
             "colorbar": {
              "outlinewidth": 0,
              "ticks": ""
             }
            },
            "type": "scatterternary"
           }
          ],
          "surface": [
           {
            "colorbar": {
             "outlinewidth": 0,
             "ticks": ""
            },
            "colorscale": [
             [
              0,
              "#0d0887"
             ],
             [
              0.1111111111111111,
              "#46039f"
             ],
             [
              0.2222222222222222,
              "#7201a8"
             ],
             [
              0.3333333333333333,
              "#9c179e"
             ],
             [
              0.4444444444444444,
              "#bd3786"
             ],
             [
              0.5555555555555556,
              "#d8576b"
             ],
             [
              0.6666666666666666,
              "#ed7953"
             ],
             [
              0.7777777777777778,
              "#fb9f3a"
             ],
             [
              0.8888888888888888,
              "#fdca26"
             ],
             [
              1,
              "#f0f921"
             ]
            ],
            "type": "surface"
           }
          ],
          "table": [
           {
            "cells": {
             "fill": {
              "color": "#EBF0F8"
             },
             "line": {
              "color": "white"
             }
            },
            "header": {
             "fill": {
              "color": "#C8D4E3"
             },
             "line": {
              "color": "white"
             }
            },
            "type": "table"
           }
          ]
         },
         "layout": {
          "annotationdefaults": {
           "arrowcolor": "#2a3f5f",
           "arrowhead": 0,
           "arrowwidth": 1
          },
          "autotypenumbers": "strict",
          "coloraxis": {
           "colorbar": {
            "outlinewidth": 0,
            "ticks": ""
           }
          },
          "colorscale": {
           "diverging": [
            [
             0,
             "#8e0152"
            ],
            [
             0.1,
             "#c51b7d"
            ],
            [
             0.2,
             "#de77ae"
            ],
            [
             0.3,
             "#f1b6da"
            ],
            [
             0.4,
             "#fde0ef"
            ],
            [
             0.5,
             "#f7f7f7"
            ],
            [
             0.6,
             "#e6f5d0"
            ],
            [
             0.7,
             "#b8e186"
            ],
            [
             0.8,
             "#7fbc41"
            ],
            [
             0.9,
             "#4d9221"
            ],
            [
             1,
             "#276419"
            ]
           ],
           "sequential": [
            [
             0,
             "#0d0887"
            ],
            [
             0.1111111111111111,
             "#46039f"
            ],
            [
             0.2222222222222222,
             "#7201a8"
            ],
            [
             0.3333333333333333,
             "#9c179e"
            ],
            [
             0.4444444444444444,
             "#bd3786"
            ],
            [
             0.5555555555555556,
             "#d8576b"
            ],
            [
             0.6666666666666666,
             "#ed7953"
            ],
            [
             0.7777777777777778,
             "#fb9f3a"
            ],
            [
             0.8888888888888888,
             "#fdca26"
            ],
            [
             1,
             "#f0f921"
            ]
           ],
           "sequentialminus": [
            [
             0,
             "#0d0887"
            ],
            [
             0.1111111111111111,
             "#46039f"
            ],
            [
             0.2222222222222222,
             "#7201a8"
            ],
            [
             0.3333333333333333,
             "#9c179e"
            ],
            [
             0.4444444444444444,
             "#bd3786"
            ],
            [
             0.5555555555555556,
             "#d8576b"
            ],
            [
             0.6666666666666666,
             "#ed7953"
            ],
            [
             0.7777777777777778,
             "#fb9f3a"
            ],
            [
             0.8888888888888888,
             "#fdca26"
            ],
            [
             1,
             "#f0f921"
            ]
           ]
          },
          "colorway": [
           "#636efa",
           "#EF553B",
           "#00cc96",
           "#ab63fa",
           "#FFA15A",
           "#19d3f3",
           "#FF6692",
           "#B6E880",
           "#FF97FF",
           "#FECB52"
          ],
          "font": {
           "color": "#2a3f5f"
          },
          "geo": {
           "bgcolor": "white",
           "lakecolor": "white",
           "landcolor": "#E5ECF6",
           "showlakes": true,
           "showland": true,
           "subunitcolor": "white"
          },
          "hoverlabel": {
           "align": "left"
          },
          "hovermode": "closest",
          "mapbox": {
           "style": "light"
          },
          "paper_bgcolor": "white",
          "plot_bgcolor": "#E5ECF6",
          "polar": {
           "angularaxis": {
            "gridcolor": "white",
            "linecolor": "white",
            "ticks": ""
           },
           "bgcolor": "#E5ECF6",
           "radialaxis": {
            "gridcolor": "white",
            "linecolor": "white",
            "ticks": ""
           }
          },
          "scene": {
           "xaxis": {
            "backgroundcolor": "#E5ECF6",
            "gridcolor": "white",
            "gridwidth": 2,
            "linecolor": "white",
            "showbackground": true,
            "ticks": "",
            "zerolinecolor": "white"
           },
           "yaxis": {
            "backgroundcolor": "#E5ECF6",
            "gridcolor": "white",
            "gridwidth": 2,
            "linecolor": "white",
            "showbackground": true,
            "ticks": "",
            "zerolinecolor": "white"
           },
           "zaxis": {
            "backgroundcolor": "#E5ECF6",
            "gridcolor": "white",
            "gridwidth": 2,
            "linecolor": "white",
            "showbackground": true,
            "ticks": "",
            "zerolinecolor": "white"
           }
          },
          "shapedefaults": {
           "line": {
            "color": "#2a3f5f"
           }
          },
          "ternary": {
           "aaxis": {
            "gridcolor": "white",
            "linecolor": "white",
            "ticks": ""
           },
           "baxis": {
            "gridcolor": "white",
            "linecolor": "white",
            "ticks": ""
           },
           "bgcolor": "#E5ECF6",
           "caxis": {
            "gridcolor": "white",
            "linecolor": "white",
            "ticks": ""
           }
          },
          "title": {
           "x": 0.05
          },
          "xaxis": {
           "automargin": true,
           "gridcolor": "white",
           "linecolor": "white",
           "ticks": "",
           "title": {
            "standoff": 15
           },
           "zerolinecolor": "white",
           "zerolinewidth": 2
          },
          "yaxis": {
           "automargin": true,
           "gridcolor": "white",
           "linecolor": "white",
           "ticks": "",
           "title": {
            "standoff": 15
           },
           "zerolinecolor": "white",
           "zerolinewidth": 2
          }
         }
        },
        "xaxis": {
         "anchor": "y",
         "domain": [
          0,
          0.94
         ],
         "range": [
          0.5261757357575756,
          1.585718724242424
         ],
         "title": {
          "text": "moid"
         }
        },
        "yaxis": {
         "anchor": "x",
         "color": "blue",
         "domain": [
          0,
          1
         ],
         "title": {
          "text": "Density"
         }
        },
        "yaxis2": {
         "anchor": "x",
         "color": "green",
         "overlaying": "y",
         "side": "right",
         "title": {
          "text": "Influence Weight"
         }
        }
       }
      }
     },
     "metadata": {},
     "output_type": "display_data"
    }
   ],
   "source": [
    "import numpy as np\n",
    "import plotly.figure_factory as ff\n",
    "import plotly.graph_objects as go\n",
    "\n",
    "from plotly.subplots import make_subplots\n",
    "from scipy.stats import gaussian_kde\n",
    "\n",
    "with warnings.catch_warnings():\n",
    "    warnings.simplefilter('ignore')\n",
    "    # Compute PDF\n",
    "    kde = gaussian_kde(gen_reacts)\n",
    "    density_x = np.linspace(min(gen_reacts) * 0.6, max(gen_reacts) * 1.4, len(gen_reacts))\n",
    "    density_y = kde(density_x)\n",
    "\n",
    "    x0 = density_x[1]\n",
    "    x1 = density_x[-2]\n",
    "\n",
    "    # Create figure with subplots\n",
    "    fig = make_subplots(specs=[[{'secondary_y': True}]])\n",
    "\n",
    "    # Add above distribution to the figure\n",
    "    fig.add_trace(go.Scatter(x=density_x, y=density_y, fill='tonexty', name='Distribution', hoverinfo='skip', mode='lines'))\n",
    "\n",
    "    case_hover_template = \"Value: %{x}<br />Influence: N/A\"\n",
    "\n",
    "    max_inf_weight =  inf_cases[0]['.influence_weight']\n",
    "\n",
    "    # Add predicted value\n",
    "    fig.add_trace(\n",
    "        go.Scatter(\n",
    "            x=[r_val], y=[max_inf_weight * 1.05], \n",
    "            name='Predicted Value', \n",
    "            mode='markers', marker=dict(size=15, color='purple'), \n",
    "            hovertemplate=case_hover_template,\n",
    "            error_x=dict(array=[global_residual])\n",
    "        ), \n",
    "        secondary_y=True\n",
    "    )\n",
    "\n",
    "    # Add actual value\n",
    "    fig.add_trace(\n",
    "        go.Scatter(\n",
    "            x=[action_value], y=[max_inf_weight * 1.05],\n",
    "            name='Actual Value', \n",
    "            mode='markers', marker=dict(size=15, color='orange'), \n",
    "            hovertemplate=case_hover_template\n",
    "        ), \n",
    "        secondary_y=True\n",
    "    )\n",
    "\n",
    "    # Update axes, hover mode\n",
    "    fig.update_xaxes(title_text='moid', range=[x0-0.05, x1 + 0.05])\n",
    "    fig.update_yaxes(title_text='Density', color='blue', secondary_y=False)\n",
    "    fig.update_yaxes(title_text='Influence Weight', color='green', secondary_y=True)\n",
    "\n",
    "    inf_case_hover_template = \"<b>%{customdata}</b><br />Value: %{x}<br />Influence: %{y}\"\n",
    "\n",
    "    inf_case_values = []\n",
    "    inf_case_weights = []\n",
    "    inf_case_labels = []\n",
    "\n",
    "    running_sum = 0\n",
    "    # Add influential cases\n",
    "    for i in inf_cases:\n",
    "        inf_case_values.append(i['moid'])\n",
    "        inf_case_weights.append(i['.influence_weight'])\n",
    "        inf_case_labels.append(i['full_name'])\n",
    "        \n",
    "        if running_sum > 0.99:\n",
    "            break\n",
    "            \n",
    "        running_sum += i['.influence_weight']\n",
    "        \n",
    "    fig.add_trace(\n",
    "        go.Scatter(\n",
    "            x=inf_case_values, \n",
    "            y=inf_case_weights, \n",
    "            name='Influential Case', \n",
    "            hovertemplate=inf_case_hover_template,\n",
    "            customdata=inf_case_labels,\n",
    "            mode='markers', marker=dict(color='green')\n",
    "        ),\n",
    "        secondary_y=True\n",
    "    )\n",
    "\n",
    "    fig.show()"
   ]
  },
  {
   "attachments": {},
   "cell_type": "markdown",
   "metadata": {},
   "source": [
    "## Non-visual interpretation\n",
    "\n",
    "Howso Engine provides a number of tools for interpreting reacts. Below, we compare the MDA (Mean Decrease in Accuracy) for the predicted case and the original case."
   ]
  },
  {
   "cell_type": "code",
   "execution_count": 12,
   "metadata": {},
   "outputs": [
    {
     "data": {
      "text/html": [
       "<div>\n",
       "<style scoped>\n",
       "    .dataframe tbody tr th:only-of-type {\n",
       "        vertical-align: middle;\n",
       "    }\n",
       "\n",
       "    .dataframe tbody tr th {\n",
       "        vertical-align: top;\n",
       "    }\n",
       "\n",
       "    .dataframe thead th {\n",
       "        text-align: right;\n",
       "    }\n",
       "</style>\n",
       "<table border=\"1\" class=\"dataframe\">\n",
       "  <thead>\n",
       "    <tr style=\"text-align: right;\">\n",
       "      <th></th>\n",
       "      <th>original</th>\n",
       "      <th>predicted</th>\n",
       "    </tr>\n",
       "  </thead>\n",
       "  <tbody>\n",
       "    <tr>\n",
       "      <th>q</th>\n",
       "      <td>0.014307</td>\n",
       "      <td>0.025397</td>\n",
       "    </tr>\n",
       "    <tr>\n",
       "      <th>per_y</th>\n",
       "      <td>0.010070</td>\n",
       "      <td>0.017157</td>\n",
       "    </tr>\n",
       "    <tr>\n",
       "      <th>IR</th>\n",
       "      <td>0.002866</td>\n",
       "      <td>0.016592</td>\n",
       "    </tr>\n",
       "    <tr>\n",
       "      <th>e</th>\n",
       "      <td>-0.001213</td>\n",
       "      <td>0.013046</td>\n",
       "    </tr>\n",
       "    <tr>\n",
       "      <th>rot_per</th>\n",
       "      <td>-0.001398</td>\n",
       "      <td>0.009542</td>\n",
       "    </tr>\n",
       "    <tr>\n",
       "      <th>w</th>\n",
       "      <td>-0.002058</td>\n",
       "      <td>0.009300</td>\n",
       "    </tr>\n",
       "    <tr>\n",
       "      <th>ad</th>\n",
       "      <td>-0.002263</td>\n",
       "      <td>0.007729</td>\n",
       "    </tr>\n",
       "    <tr>\n",
       "      <th>BV</th>\n",
       "      <td>-0.003029</td>\n",
       "      <td>0.007628</td>\n",
       "    </tr>\n",
       "    <tr>\n",
       "      <th>GM</th>\n",
       "      <td>-0.005148</td>\n",
       "      <td>0.007395</td>\n",
       "    </tr>\n",
       "    <tr>\n",
       "      <th>full_name</th>\n",
       "      <td>-0.005438</td>\n",
       "      <td>0.007228</td>\n",
       "    </tr>\n",
       "    <tr>\n",
       "      <th>i</th>\n",
       "      <td>-0.005576</td>\n",
       "      <td>0.006796</td>\n",
       "    </tr>\n",
       "    <tr>\n",
       "      <th>albedo</th>\n",
       "      <td>-0.006407</td>\n",
       "      <td>0.005691</td>\n",
       "    </tr>\n",
       "    <tr>\n",
       "      <th>neo</th>\n",
       "      <td>-0.008786</td>\n",
       "      <td>0.004367</td>\n",
       "    </tr>\n",
       "    <tr>\n",
       "      <th>G</th>\n",
       "      <td>-0.009048</td>\n",
       "      <td>0.001638</td>\n",
       "    </tr>\n",
       "    <tr>\n",
       "      <th>H</th>\n",
       "      <td>-0.009366</td>\n",
       "      <td>0.001342</td>\n",
       "    </tr>\n",
       "    <tr>\n",
       "      <th>om</th>\n",
       "      <td>-0.011914</td>\n",
       "      <td>0.000487</td>\n",
       "    </tr>\n",
       "    <tr>\n",
       "      <th>data_arc</th>\n",
       "      <td>-0.012283</td>\n",
       "      <td>-0.000390</td>\n",
       "    </tr>\n",
       "    <tr>\n",
       "      <th>spec_T</th>\n",
       "      <td>-0.013184</td>\n",
       "      <td>-0.002633</td>\n",
       "    </tr>\n",
       "    <tr>\n",
       "      <th>condition_code</th>\n",
       "      <td>-0.013530</td>\n",
       "      <td>-0.003072</td>\n",
       "    </tr>\n",
       "    <tr>\n",
       "      <th>pha</th>\n",
       "      <td>-0.014525</td>\n",
       "      <td>-0.003731</td>\n",
       "    </tr>\n",
       "    <tr>\n",
       "      <th>a</th>\n",
       "      <td>-0.014939</td>\n",
       "      <td>-0.004519</td>\n",
       "    </tr>\n",
       "    <tr>\n",
       "      <th>diameter</th>\n",
       "      <td>-0.015356</td>\n",
       "      <td>-0.005805</td>\n",
       "    </tr>\n",
       "    <tr>\n",
       "      <th>n_obs_used</th>\n",
       "      <td>-0.015732</td>\n",
       "      <td>-0.007146</td>\n",
       "    </tr>\n",
       "    <tr>\n",
       "      <th>extent</th>\n",
       "      <td>-0.016650</td>\n",
       "      <td>-0.007285</td>\n",
       "    </tr>\n",
       "    <tr>\n",
       "      <th>spec_B</th>\n",
       "      <td>-0.018455</td>\n",
       "      <td>-0.008510</td>\n",
       "    </tr>\n",
       "    <tr>\n",
       "      <th>UB</th>\n",
       "      <td>-0.024023</td>\n",
       "      <td>-0.008744</td>\n",
       "    </tr>\n",
       "  </tbody>\n",
       "</table>\n",
       "</div>"
      ],
      "text/plain": [
       "                original  predicted\n",
       "q               0.014307   0.025397\n",
       "per_y           0.010070   0.017157\n",
       "IR              0.002866   0.016592\n",
       "e              -0.001213   0.013046\n",
       "rot_per        -0.001398   0.009542\n",
       "w              -0.002058   0.009300\n",
       "ad             -0.002263   0.007729\n",
       "BV             -0.003029   0.007628\n",
       "GM             -0.005148   0.007395\n",
       "full_name      -0.005438   0.007228\n",
       "i              -0.005576   0.006796\n",
       "albedo         -0.006407   0.005691\n",
       "neo            -0.008786   0.004367\n",
       "G              -0.009048   0.001638\n",
       "H              -0.009366   0.001342\n",
       "om             -0.011914   0.000487\n",
       "data_arc       -0.012283  -0.000390\n",
       "spec_T         -0.013184  -0.002633\n",
       "condition_code -0.013530  -0.003072\n",
       "pha            -0.014525  -0.003731\n",
       "a              -0.014939  -0.004519\n",
       "diameter       -0.015356  -0.005805\n",
       "n_obs_used     -0.015732  -0.007146\n",
       "extent         -0.016650  -0.007285\n",
       "spec_B         -0.018455  -0.008510\n",
       "UB             -0.024023  -0.008744"
      ]
     },
     "metadata": {},
     "output_type": "display_data"
    }
   ],
   "source": [
    "react = trainee.react(context_features=context_features,\n",
    "                      action_features=action_feature,\n",
    "                      contexts=[context_values],\n",
    "                      details = {\n",
    "                         'feature_mda': True,\n",
    "                         'robust_computation': True\n",
    "                      })\n",
    "\n",
    "loc_mda = react['explanation']['feature_mda']\n",
    "\n",
    "mda_dict = dict(sorted(loc_mda[0].items(), key=lambda item: item[1], reverse=True))\n",
    "mda_df = pd.DataFrame(columns=['original', 'predicted'])\n",
    "mda_df['predicted'] = mda_dict.values()\n",
    "mda_df.index = mda_dict.keys()\n",
    "\n",
    "react2 = trainee.react(context_features=context_features,\n",
    "                       action_features=action_feature,\n",
    "                       actions=[[action_value]],  # specify \"actual\" actual value\n",
    "                       contexts=[context_values],\n",
    "                       details = { \n",
    "                           'feature_mda_ex_post': True,\n",
    "                           'robust_computation': True\n",
    "                       })\n",
    "\n",
    "loc_mda_post_facto = react2['explanation']['feature_mda_ex_post']\n",
    "mda_dict = dict(sorted(loc_mda_post_facto[0].items(), key=lambda item: item[1], reverse=True))\n",
    "mda_df['original'] = mda_dict.values()\n",
    "\n",
    "display(mda_df)"
   ]
  }
 ],
 "metadata": {
  "kernelspec": {
   "display_name": "Python 3 (ipykernel)",
   "language": "python",
   "name": "python3"
  },
  "language_info": {
   "codemirror_mode": {
    "name": "ipython",
    "version": 3
   },
   "file_extension": ".py",
   "mimetype": "text/x-python",
   "name": "python",
   "nbconvert_exporter": "python",
   "pygments_lexer": "ipython3",
   "version": "3.11.0"
  },
  "vscode": {
   "interpreter": {
    "hash": "98985849814880aea3c19ccd39a676e6516266a02d3f41969eba1e354b5d6197"
   }
  }
 },
 "nbformat": 4,
 "nbformat_minor": 4
}
